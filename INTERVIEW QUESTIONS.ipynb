{
 "cells": [
  {
   "cell_type": "raw",
   "id": "2e569dbc",
   "metadata": {},
   "source": [
    "# Q: What are the primitive data types in Python?\n",
    "A: The primitive data types in Python are integers, floats, booleans, strings, and None.\n",
    "\n",
    "Q: What is the difference between \"==\" and \"is\" operators in Python?\n",
    "A: The \"==\" operator checks for value equality, while the \"is\" operator checks for object identity.\n",
    "\n",
    "Q: Explain the difference between 'and' and 'or' operators in Python.\n",
    "A: The 'and' operator returns True if both operands are true, while the 'or' operator returns True if either operand is true.\n",
    "\n",
    "Q: How do you check if a variable is of a specific data type in Python?\n",
    "A: You can use the isinstance() function to check if a variable is of a specific data type. For example: isinstance(var, int).\n",
    "\n",
    "Q: What is the ternary operator in Python?\n",
    "A: The ternary operator, also known as the conditional expression, is a shorter way to write if-else statements in a single line.\n",
    "\n",
    "Q: What is the purpose of the \"pass\" statement in Python?\n",
    "A: The \"pass\" statement is a placeholder that does nothing. It is used as a syntactic placeholder where a statement is required.\n",
    "\n",
    "Q: Explain the difference between \"break\" and \"continue\" statements in Python.\n",
    "A: The \"break\" statement is used to exit the loop entirely, while the \"continue\" statement skips the current iteration and moves to the next.\n",
    "\n",
    "Q: How can you iterate over a list and its indices simultaneously in Python?\n",
    "A: You can use the enumerate() function to iterate over a list along with its indices. For example: for index, value in enumerate(my_list).\n",
    "\n",
    "Q: What is the purpose of the range() function in Python?\n",
    "A: The range() function is used to generate a sequence of numbers. It is commonly used in for loops to iterate a specific number of times.\n",
    "\n",
    "Q: How do you define a function in Python?\n",
    "A: You can define a function using the \"def\" keyword, followed by the function name, parentheses, and a colon. For example: def my_function().\n",
    "\n",
    "Q: What is the difference between arguments and parameters in Python?\n",
    "A: Parameters are variables defined in the function signature, while arguments are the actual values passed to the function when it is called.\n",
    "\n",
    "Q: Can a function return multiple values in Python?\n",
    "A: Yes, a function can return multiple values in Python by separating them with commas. They are returned as a tuple and can be unpacked.\n",
    "\n",
    "Q: What is a lambda function in Python?\n",
    "A: A lambda function, also known as an anonymous function, is a small function that doesn't have a name and is defined using the lambda keyword.\n",
    "\n",
    "Q: How can you pass a function as an argument to another function in Python?\n",
    "A: In Python, you can pass a function as an argument by using the function name without parentheses. For example: my_function(another_function).\n",
    "\n",
    "Q: What is the difference between local and global variables in Python?\n",
    "A: Local variables are defined within a function and have a local scope, while global variables are defined outside functions and have a global scope.\n",
    "\n",
    "Q: How can you modify a global variable inside a function in Python?\n",
    "A: To modify a global variable inside a function, you need to use the \"global\" keyword before the variable name. For example: global x.\n",
    "\n",
    "Q: What is the purpose of a docstring in Python?\n",
    "A: A docstring is a string literal that appears as the first line in a function, module, or class. It is used to document and describe its purpose.\n",
    "\n",
    "Q: What is recursion in Python? Explain with an example.\n",
    "A: Recursion is a programming technique where a function calls itself to solve a problem. An example is the factorial function: def factorial(n): return n * factorial(n-1).\n",
    "\n",
    "Q: How can you handle exceptions in Python?\n",
    "A: Exceptions in Python can be handled using the try-except block. Code that might raise an exception is placed within the try block, and the except block catches and handles the exception.\n",
    "\n",
    "Q: What is the purpose of the \"return\" statement in a function?\n",
    "A: The \"return\" statement is used to exit a function and optionally return a value. It can also be used to terminate the execution of a loop or a program"
   ]
  },
  {
   "cell_type": "code",
   "execution_count": null,
   "id": "d95be039",
   "metadata": {},
   "outputs": [],
   "source": []
  }
 ],
 "metadata": {
  "kernelspec": {
   "display_name": "Python 3 (ipykernel)",
   "language": "python",
   "name": "python3"
  },
  "language_info": {
   "codemirror_mode": {
    "name": "ipython",
    "version": 3
   },
   "file_extension": ".py",
   "mimetype": "text/x-python",
   "name": "python",
   "nbconvert_exporter": "python",
   "pygments_lexer": "ipython3",
   "version": "3.10.9"
  }
 },
 "nbformat": 4,
 "nbformat_minor": 5
}
