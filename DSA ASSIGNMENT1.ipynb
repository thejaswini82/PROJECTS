{
 "cells": [
  {
   "cell_type": "code",
   "execution_count": 1,
   "id": "e5f18ea7",
   "metadata": {},
   "outputs": [
    {
     "name": "stdout",
     "output_type": "stream",
     "text": [
      "Pairs found:\n",
      "(4, 2)\n",
      "(5, 1)\n"
     ]
    }
   ],
   "source": [
    "def find_pairs(arr, target_sum):\n",
    "    pairs = []\n",
    "    seen = set()\n",
    "\n",
    "    for num in arr:\n",
    "        complement = target_sum - num\n",
    "        if complement in seen:\n",
    "            pairs.append((num, complement))\n",
    "        seen.add(num)\n",
    "\n",
    "    return pairs\n",
    "\n",
    "\n",
    "# Example usage\n",
    "nums = [1, 2, 3, 4, 5]\n",
    "target = 6\n",
    "\n",
    "result = find_pairs(nums, target)\n",
    "\n",
    "if result:\n",
    "    print(\"Pairs found:\")\n",
    "    for pair in result:\n",
    "        print(pair)\n",
    "else:\n",
    "    print(\"No pairs found.\")\n"
   ]
  },
  {
   "cell_type": "code",
   "execution_count": 2,
   "id": "96fd9e24",
   "metadata": {},
   "outputs": [
    {
     "name": "stdout",
     "output_type": "stream",
     "text": [
      "Original array: [1, 2, 3, 4, 5]\n",
      "Reversed array: [5, 4, 3, 2, 1]\n"
     ]
    }
   ],
   "source": [
    "#Write a program to reverse an array in place? \n",
    "#In place means you cannot create a new array. You have to update the original array. \n",
    "def reverse_array(arr):\n",
    "    start = 0\n",
    "    end = len(arr) - 1\n",
    "\n",
    "    while start < end:\n",
    "        arr[start], arr[end] = arr[end], arr[start]\n",
    "        start += 1\n",
    "        end -= 1\n",
    "\n",
    "    # No need to return anything since the changes are made in-place\n",
    "\n",
    "\n",
    "# Example usage\n",
    "nums = [1, 2, 3, 4, 5]\n",
    "print(\"Original array:\", nums)\n",
    "\n",
    "reverse_array(nums)\n",
    "print(\"Reversed array:\", nums)\n"
   ]
  },
  {
   "cell_type": "code",
   "execution_count": 3,
   "id": "2dd689ef",
   "metadata": {},
   "outputs": [
    {
     "name": "stdout",
     "output_type": "stream",
     "text": [
      "The strings are rotations of each other.\n"
     ]
    }
   ],
   "source": [
    "#Write a program to check if two strings are a rotation of each other? \n",
    "def are_rotations(str1, str2):\n",
    "    if len(str1) != len(str2):\n",
    "        return False\n",
    "\n",
    "    concatenated = str1 + str1\n",
    "    if str2 in concatenated:\n",
    "        return True\n",
    "    else:\n",
    "        return False\n",
    "\n",
    "\n",
    "# Example usage\n",
    "string1 = \"abcd\"\n",
    "string2 = \"cdab\"\n",
    "\n",
    "if are_rotations(string1, string2):\n",
    "    print(\"The strings are rotations of each other.\")\n",
    "else:\n",
    "    print(\"The strings are not rotations of each other.\")\n"
   ]
  },
  {
   "cell_type": "code",
   "execution_count": 4,
   "id": "b9050ee6",
   "metadata": {},
   "outputs": [
    {
     "name": "stdout",
     "output_type": "stream",
     "text": [
      "No non-repeated character found.\n"
     ]
    }
   ],
   "source": [
    "#Write a program to print the first non-repeated character from a string?\n",
    "def first_non_repeated_char(string):\n",
    "    char_count = {}\n",
    "\n",
    "    for char in string:\n",
    "        if char in char_count:\n",
    "            char_count[char] += 1\n",
    "        else:\n",
    "            char_count[char] = 1\n",
    "\n",
    "    for char in string:\n",
    "        if char_count[char] == 1:\n",
    "            return char\n",
    "\n",
    "    return None\n",
    "\n",
    "\n",
    "# Example usage\n",
    "input_string = \"abccba\"\n",
    "\n",
    "result = first_non_repeated_char(input_string)\n",
    "\n",
    "if result:\n",
    "    print(\"First non-repeated character:\", result)\n",
    "else:\n",
    "    print(\"No non-repeated character found.\")\n"
   ]
  },
  {
   "cell_type": "code",
   "execution_count": 5,
   "id": "e0a0737e",
   "metadata": {},
   "outputs": [
    {
     "name": "stdout",
     "output_type": "stream",
     "text": [
      "Move disk 1 from A to C\n",
      "Move disk 2 from A to B\n",
      "Move disk 1 from C to B\n",
      "Move disk 3 from A to C\n",
      "Move disk 1 from B to A\n",
      "Move disk 2 from B to C\n",
      "Move disk 1 from A to C\n"
     ]
    }
   ],
   "source": [
    "#Read about the Tower of Hanoi algorithm. Write a program to implement it.\n",
    "\n",
    "#The Tower of Hanoi is a classic mathematical puzzle that involves three pegs and a set of disks of different sizes. \n",
    "#The objective is to transfer all the disks from one peg to another while following three rules:\n",
    "\n",
    "#1.Only one disk can be moved at a time.\n",
    "#2.A larger disk cannot be placed on top of a smaller disk.\n",
    "#3.The disks can only be moved using the three pegs (source, auxiliary, and destination).\n",
    "#Here's an example program in Python that implements the Tower of Hanoi algorithm:\n",
    "\n",
    "def tower_of_hanoi(n, source, auxiliary, destination):\n",
    "    if n > 0:\n",
    "        # Move n-1 disks from source to auxiliary peg\n",
    "        tower_of_hanoi(n - 1, source, destination, auxiliary)\n",
    "\n",
    "        # Move the nth disk from source to destination peg\n",
    "        print(f\"Move disk {n} from {source} to {destination}\")\n",
    "\n",
    "        # Move the n-1 disks from auxiliary peg to destination peg\n",
    "        tower_of_hanoi(n - 1, auxiliary, source, destination)\n",
    "\n",
    "\n",
    "# Example usage\n",
    "num_disks = 3\n",
    "tower_of_hanoi(num_disks, 'A', 'B', 'C')\n",
    "\n"
   ]
  },
  {
   "cell_type": "code",
   "execution_count": 6,
   "id": "b70f78a1",
   "metadata": {},
   "outputs": [
    {
     "name": "stdout",
     "output_type": "stream",
     "text": [
      "Prefix expression: *+234\n"
     ]
    }
   ],
   "source": [
    "#Read about infix, prefix, and postfix expressions. Write a program to convert postfix to prefix expression.\n",
    "\n",
    "def postfix_to_prefix(postfix):\n",
    "    stack = []\n",
    "\n",
    "    for symbol in postfix:\n",
    "        if symbol.isalnum():\n",
    "            stack.append(symbol)\n",
    "        else:\n",
    "            operand2 = stack.pop()\n",
    "            operand1 = stack.pop()\n",
    "            prefix = symbol + operand1 + operand2\n",
    "            stack.append(prefix)\n",
    "\n",
    "    return stack.pop()\n",
    "\n",
    "\n",
    "# Example usage\n",
    "postfix_expr = \"23+4*\"\n",
    "\n",
    "prefix_expr = postfix_to_prefix(postfix_expr)\n",
    "\n",
    "print(\"Prefix expression:\", prefix_expr)\n"
   ]
  },
  {
   "cell_type": "code",
   "execution_count": 7,
   "id": "4a5b170e",
   "metadata": {},
   "outputs": [
    {
     "name": "stdout",
     "output_type": "stream",
     "text": [
      "Infix expression: ((2+3)*(4/5))\n"
     ]
    }
   ],
   "source": [
    "#Write a program to convert prefix expression to infix expression.\n",
    "\n",
    "def is_operator(symbol):\n",
    "    return symbol in \"+-*/\"\n",
    "\n",
    "def prefix_to_infix(prefix):\n",
    "    stack = []\n",
    "\n",
    "    for symbol in reversed(prefix):\n",
    "        if is_operator(symbol):\n",
    "            operand1 = stack.pop()\n",
    "            operand2 = stack.pop()\n",
    "            infix = \"(\" + operand1 + symbol + operand2 + \")\"\n",
    "            stack.append(infix)\n",
    "        else:\n",
    "            stack.append(symbol)\n",
    "\n",
    "    return stack.pop()\n",
    "\n",
    "\n",
    "# Example usage\n",
    "prefix_expr = \"*+23/45\"\n",
    "\n",
    "infix_expr = prefix_to_infix(prefix_expr)\n",
    "\n",
    "print(\"Infix expression:\", infix_expr)\n"
   ]
  },
  {
   "cell_type": "code",
   "execution_count": 8,
   "id": "9bd2dc95",
   "metadata": {},
   "outputs": [
    {
     "name": "stdout",
     "output_type": "stream",
     "text": [
      "All brackets are closed properly.\n"
     ]
    }
   ],
   "source": [
    "#Write a program to check if all the brackets are closed in a given code snippet.\n",
    "\n",
    "def is_matching_pair(opening, closing):\n",
    "    if opening == '(' and closing == ')':\n",
    "        return True\n",
    "    elif opening == '[' and closing == ']':\n",
    "        return True\n",
    "    elif opening == '{' and closing == '}':\n",
    "        return True\n",
    "    else:\n",
    "        return False\n",
    "\n",
    "def check_brackets(code):\n",
    "    stack = []\n",
    "\n",
    "    for char in code:\n",
    "        if char in '([{':\n",
    "            stack.append(char)\n",
    "        elif char in ')]}':\n",
    "            if len(stack) == 0:\n",
    "                return False\n",
    "            else:\n",
    "                opening = stack.pop()\n",
    "                if not is_matching_pair(opening, char):\n",
    "                    return False\n",
    "\n",
    "    return len(stack) == 0\n",
    "\n",
    "\n",
    "# Example usage\n",
    "code_snippet = \"{(a + b) * [c - d]}\"\n",
    "\n",
    "if check_brackets(code_snippet):\n",
    "    print(\"All brackets are closed properly.\")\n",
    "else:\n",
    "    print(\"Brackets are not closed properly.\")\n"
   ]
  },
  {
   "cell_type": "code",
   "execution_count": 9,
   "id": "9cf558c2",
   "metadata": {},
   "outputs": [
    {
     "name": "stdout",
     "output_type": "stream",
     "text": [
      "Original stack: [1, 2, 3, 4]\n",
      "Reversed stack: [4, 3, 2, 1]\n"
     ]
    }
   ],
   "source": [
    "#Write a program to reverse a stack.\n",
    "\n",
    "class Stack:\n",
    "    def __init__(self):\n",
    "        self.items = []\n",
    "\n",
    "    def is_empty(self):\n",
    "        return len(self.items) == 0\n",
    "\n",
    "    def push(self, item):\n",
    "        self.items.append(item)\n",
    "\n",
    "    def pop(self):\n",
    "        if self.is_empty():\n",
    "            raise Exception(\"Stack is empty\")\n",
    "        return self.items.pop()\n",
    "\n",
    "    def peek(self):\n",
    "        if self.is_empty():\n",
    "            raise Exception(\"Stack is empty\")\n",
    "        return self.items[-1]\n",
    "\n",
    "    def size(self):\n",
    "        return len(self.items)\n",
    "\n",
    "\n",
    "def reverse_stack(stack):\n",
    "    if stack.is_empty():\n",
    "        return\n",
    "\n",
    "    reversed_stack = Stack()\n",
    "\n",
    "    while not stack.is_empty():\n",
    "        item = stack.pop()\n",
    "        reversed_stack.push(item)\n",
    "\n",
    "    return reversed_stack\n",
    "\n",
    "\n",
    "# Example usage\n",
    "stack = Stack()\n",
    "stack.push(1)\n",
    "stack.push(2)\n",
    "stack.push(3)\n",
    "stack.push(4)\n",
    "\n",
    "print(\"Original stack:\", stack.items)\n",
    "\n",
    "reversed_stack = reverse_stack(stack)\n",
    "\n",
    "print(\"Reversed stack:\", reversed_stack.items)\n"
   ]
  },
  {
   "cell_type": "code",
   "execution_count": 11,
   "id": "d89c7a91",
   "metadata": {},
   "outputs": [
    {
     "name": "stdout",
     "output_type": "stream",
     "text": [
      "Stack: [4, 2, 6, 1, 5]\n",
      "Smallest number: 1\n"
     ]
    }
   ],
   "source": [
    "#Write a program to find the smallest number using a stack.\n",
    "\n",
    "class Stack:\n",
    "    def __init__(self):\n",
    "        self.items = []\n",
    "        self.min_value = float('inf')\n",
    "\n",
    "    def is_empty(self):\n",
    "        return len(self.items) == 0\n",
    "\n",
    "    def push(self, item):\n",
    "        if item < self.min_value:\n",
    "            self.min_value = item\n",
    "        self.items.append(item)\n",
    "\n",
    "    def pop(self):\n",
    "        if self.is_empty():\n",
    "            raise Exception(\"Stack is empty\")\n",
    "        return self.items.pop()\n",
    "\n",
    "    def peek(self):\n",
    "        if self.is_empty():\n",
    "            raise Exception(\"Stack is empty\")\n",
    "        return self.items[-1]\n",
    "\n",
    "    def size(self):\n",
    "        return len(self.items)\n",
    "\n",
    "    def get_min(self):\n",
    "        if self.is_empty():\n",
    "            raise Exception(\"Stack is empty\")\n",
    "        return self.min_value\n",
    "\n",
    "\n",
    "# Example usage\n",
    "stack = Stack()\n",
    "stack.push(4)\n",
    "stack.push(2)\n",
    "stack.push(6)\n",
    "stack.push(1)\n",
    "stack.push(5)\n",
    "\n",
    "print(\"Stack:\", stack.items)\n",
    "print(\"Smallest number:\", stack.get_min())\n"
   ]
  },
  {
   "cell_type": "code",
   "execution_count": null,
   "id": "ed3aba66",
   "metadata": {},
   "outputs": [],
   "source": []
  }
 ],
 "metadata": {
  "kernelspec": {
   "display_name": "Python 3 (ipykernel)",
   "language": "python",
   "name": "python3"
  },
  "language_info": {
   "codemirror_mode": {
    "name": "ipython",
    "version": 3
   },
   "file_extension": ".py",
   "mimetype": "text/x-python",
   "name": "python",
   "nbconvert_exporter": "python",
   "pygments_lexer": "ipython3",
   "version": "3.10.9"
  }
 },
 "nbformat": 4,
 "nbformat_minor": 5
}
