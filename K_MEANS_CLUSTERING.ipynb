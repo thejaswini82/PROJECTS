{
  "nbformat": 4,
  "nbformat_minor": 0,
  "metadata": {
    "colab": {
      "provenance": [],
      "authorship_tag": "ABX9TyOY5OTYarll1LAdFkvmQWZS",
      "include_colab_link": true
    },
    "kernelspec": {
      "name": "python3",
      "display_name": "Python 3"
    },
    "language_info": {
      "name": "python"
    }
  },
  "cells": [
    {
      "cell_type": "markdown",
      "metadata": {
        "id": "view-in-github",
        "colab_type": "text"
      },
      "source": [
        "<a href=\"https://colab.research.google.com/github/thejaswini82/PROJECTS/blob/main/K_MEANS_CLUSTERING.ipynb\" target=\"_parent\"><img src=\"https://colab.research.google.com/assets/colab-badge.svg\" alt=\"Open In Colab\"/></a>"
      ]
    },
    {
      "cell_type": "code",
      "execution_count": null,
      "metadata": {
        "id": "0fR0z6v0BqCk"
      },
      "outputs": [],
      "source": [
        "#*CLUSTERING - Clustering is the task of dividing the population or data points into a number of groups \n",
        "#such that data points in the same groups are more similar to other data points in the same group than those in other groups. \n",
        "#--> In simple words, the aim is to segregate groups with similar traits and assign them into clusters"
      ]
    },
    {
      "cell_type": "code",
      "source": [
        "#--> K-means clustering - It is a type of unsupervised learning, which is used when \n",
        "#you have unlabeled data (i.e., data without defined categories or groups).\n",
        "#--> The goal of this algorithm is to find groups in the data, with the number of groups represented by the variable K."
      ],
      "metadata": {
        "id": "58TM6IiAIFmI"
      },
      "execution_count": null,
      "outputs": []
    },
    {
      "cell_type": "code",
      "source": [
        "#STEP 1. Take Data and Create Dataframe\n",
        "#STEP 2. IMPORT LIBARIES\n",
        "#STEP 3. DATA VISUALISATION\n",
        "#STEP 4. DIVIDE THE DATA INTO INPUT\n",
        "#STEP 5. VISUALISATION\n",
        "#STEP 6. FIND THE CLUSTERS\n",
        "  #a. ELBOW METHOD - Slightly Confusing\n",
        "  #b. SILHOUETTE SCORE METHOD - Very accurate\n",
        "#STEP 7. APPLY CLUSTERER\n",
        "#STEP 8. FINAL VISUALISATION"
      ],
      "metadata": {
        "id": "IsJCMZ83Je9b"
      },
      "execution_count": null,
      "outputs": []
    },
    {
      "cell_type": "code",
      "source": [
        "#STEP 1. Take Data and Create Dataframe\n",
        "import pandas as pd\n",
        "df = pd.read_csv('https://raw.githubusercontent.com/thejaswini82/DATASETS/main/iris.csv')\n",
        "df"
      ],
      "metadata": {
        "colab": {
          "base_uri": "https://localhost:8080/",
          "height": 424
        },
        "id": "znsnN4hlB2xZ",
        "outputId": "a73362c4-dc7a-4054-d7ac-07ae2ddb31f0"
      },
      "execution_count": null,
      "outputs": [
        {
          "output_type": "execute_result",
          "data": {
            "text/plain": [
              "     sepal_length  sepal_width  petal_length  petal_width    species\n",
              "0             5.1          3.5           1.4          0.2     setosa\n",
              "1             4.9          3.0           1.4          0.2     setosa\n",
              "2             4.7          3.2           1.3          0.2     setosa\n",
              "3             4.6          3.1           1.5          0.2     setosa\n",
              "4             5.0          3.6           1.4          0.2     setosa\n",
              "..            ...          ...           ...          ...        ...\n",
              "145           6.7          3.0           5.2          2.3  virginica\n",
              "146           6.3          2.5           5.0          1.9  virginica\n",
              "147           6.5          3.0           5.2          2.0  virginica\n",
              "148           6.2          3.4           5.4          2.3  virginica\n",
              "149           5.9          3.0           5.1          1.8  virginica\n",
              "\n",
              "[150 rows x 5 columns]"
            ],
            "text/html": [
              "\n",
              "  <div id=\"df-4b8df47b-01ad-4953-bd8b-4d131893a1a4\">\n",
              "    <div class=\"colab-df-container\">\n",
              "      <div>\n",
              "<style scoped>\n",
              "    .dataframe tbody tr th:only-of-type {\n",
              "        vertical-align: middle;\n",
              "    }\n",
              "\n",
              "    .dataframe tbody tr th {\n",
              "        vertical-align: top;\n",
              "    }\n",
              "\n",
              "    .dataframe thead th {\n",
              "        text-align: right;\n",
              "    }\n",
              "</style>\n",
              "<table border=\"1\" class=\"dataframe\">\n",
              "  <thead>\n",
              "    <tr style=\"text-align: right;\">\n",
              "      <th></th>\n",
              "      <th>sepal_length</th>\n",
              "      <th>sepal_width</th>\n",
              "      <th>petal_length</th>\n",
              "      <th>petal_width</th>\n",
              "      <th>species</th>\n",
              "    </tr>\n",
              "  </thead>\n",
              "  <tbody>\n",
              "    <tr>\n",
              "      <th>0</th>\n",
              "      <td>5.1</td>\n",
              "      <td>3.5</td>\n",
              "      <td>1.4</td>\n",
              "      <td>0.2</td>\n",
              "      <td>setosa</td>\n",
              "    </tr>\n",
              "    <tr>\n",
              "      <th>1</th>\n",
              "      <td>4.9</td>\n",
              "      <td>3.0</td>\n",
              "      <td>1.4</td>\n",
              "      <td>0.2</td>\n",
              "      <td>setosa</td>\n",
              "    </tr>\n",
              "    <tr>\n",
              "      <th>2</th>\n",
              "      <td>4.7</td>\n",
              "      <td>3.2</td>\n",
              "      <td>1.3</td>\n",
              "      <td>0.2</td>\n",
              "      <td>setosa</td>\n",
              "    </tr>\n",
              "    <tr>\n",
              "      <th>3</th>\n",
              "      <td>4.6</td>\n",
              "      <td>3.1</td>\n",
              "      <td>1.5</td>\n",
              "      <td>0.2</td>\n",
              "      <td>setosa</td>\n",
              "    </tr>\n",
              "    <tr>\n",
              "      <th>4</th>\n",
              "      <td>5.0</td>\n",
              "      <td>3.6</td>\n",
              "      <td>1.4</td>\n",
              "      <td>0.2</td>\n",
              "      <td>setosa</td>\n",
              "    </tr>\n",
              "    <tr>\n",
              "      <th>...</th>\n",
              "      <td>...</td>\n",
              "      <td>...</td>\n",
              "      <td>...</td>\n",
              "      <td>...</td>\n",
              "      <td>...</td>\n",
              "    </tr>\n",
              "    <tr>\n",
              "      <th>145</th>\n",
              "      <td>6.7</td>\n",
              "      <td>3.0</td>\n",
              "      <td>5.2</td>\n",
              "      <td>2.3</td>\n",
              "      <td>virginica</td>\n",
              "    </tr>\n",
              "    <tr>\n",
              "      <th>146</th>\n",
              "      <td>6.3</td>\n",
              "      <td>2.5</td>\n",
              "      <td>5.0</td>\n",
              "      <td>1.9</td>\n",
              "      <td>virginica</td>\n",
              "    </tr>\n",
              "    <tr>\n",
              "      <th>147</th>\n",
              "      <td>6.5</td>\n",
              "      <td>3.0</td>\n",
              "      <td>5.2</td>\n",
              "      <td>2.0</td>\n",
              "      <td>virginica</td>\n",
              "    </tr>\n",
              "    <tr>\n",
              "      <th>148</th>\n",
              "      <td>6.2</td>\n",
              "      <td>3.4</td>\n",
              "      <td>5.4</td>\n",
              "      <td>2.3</td>\n",
              "      <td>virginica</td>\n",
              "    </tr>\n",
              "    <tr>\n",
              "      <th>149</th>\n",
              "      <td>5.9</td>\n",
              "      <td>3.0</td>\n",
              "      <td>5.1</td>\n",
              "      <td>1.8</td>\n",
              "      <td>virginica</td>\n",
              "    </tr>\n",
              "  </tbody>\n",
              "</table>\n",
              "<p>150 rows × 5 columns</p>\n",
              "</div>\n",
              "      <button class=\"colab-df-convert\" onclick=\"convertToInteractive('df-4b8df47b-01ad-4953-bd8b-4d131893a1a4')\"\n",
              "              title=\"Convert this dataframe to an interactive table.\"\n",
              "              style=\"display:none;\">\n",
              "        \n",
              "  <svg xmlns=\"http://www.w3.org/2000/svg\" height=\"24px\"viewBox=\"0 0 24 24\"\n",
              "       width=\"24px\">\n",
              "    <path d=\"M0 0h24v24H0V0z\" fill=\"none\"/>\n",
              "    <path d=\"M18.56 5.44l.94 2.06.94-2.06 2.06-.94-2.06-.94-.94-2.06-.94 2.06-2.06.94zm-11 1L8.5 8.5l.94-2.06 2.06-.94-2.06-.94L8.5 2.5l-.94 2.06-2.06.94zm10 10l.94 2.06.94-2.06 2.06-.94-2.06-.94-.94-2.06-.94 2.06-2.06.94z\"/><path d=\"M17.41 7.96l-1.37-1.37c-.4-.4-.92-.59-1.43-.59-.52 0-1.04.2-1.43.59L10.3 9.45l-7.72 7.72c-.78.78-.78 2.05 0 2.83L4 21.41c.39.39.9.59 1.41.59.51 0 1.02-.2 1.41-.59l7.78-7.78 2.81-2.81c.8-.78.8-2.07 0-2.86zM5.41 20L4 18.59l7.72-7.72 1.47 1.35L5.41 20z\"/>\n",
              "  </svg>\n",
              "      </button>\n",
              "      \n",
              "  <style>\n",
              "    .colab-df-container {\n",
              "      display:flex;\n",
              "      flex-wrap:wrap;\n",
              "      gap: 12px;\n",
              "    }\n",
              "\n",
              "    .colab-df-convert {\n",
              "      background-color: #E8F0FE;\n",
              "      border: none;\n",
              "      border-radius: 50%;\n",
              "      cursor: pointer;\n",
              "      display: none;\n",
              "      fill: #1967D2;\n",
              "      height: 32px;\n",
              "      padding: 0 0 0 0;\n",
              "      width: 32px;\n",
              "    }\n",
              "\n",
              "    .colab-df-convert:hover {\n",
              "      background-color: #E2EBFA;\n",
              "      box-shadow: 0px 1px 2px rgba(60, 64, 67, 0.3), 0px 1px 3px 1px rgba(60, 64, 67, 0.15);\n",
              "      fill: #174EA6;\n",
              "    }\n",
              "\n",
              "    [theme=dark] .colab-df-convert {\n",
              "      background-color: #3B4455;\n",
              "      fill: #D2E3FC;\n",
              "    }\n",
              "\n",
              "    [theme=dark] .colab-df-convert:hover {\n",
              "      background-color: #434B5C;\n",
              "      box-shadow: 0px 1px 3px 1px rgba(0, 0, 0, 0.15);\n",
              "      filter: drop-shadow(0px 1px 2px rgba(0, 0, 0, 0.3));\n",
              "      fill: #FFFFFF;\n",
              "    }\n",
              "  </style>\n",
              "\n",
              "      <script>\n",
              "        const buttonEl =\n",
              "          document.querySelector('#df-4b8df47b-01ad-4953-bd8b-4d131893a1a4 button.colab-df-convert');\n",
              "        buttonEl.style.display =\n",
              "          google.colab.kernel.accessAllowed ? 'block' : 'none';\n",
              "\n",
              "        async function convertToInteractive(key) {\n",
              "          const element = document.querySelector('#df-4b8df47b-01ad-4953-bd8b-4d131893a1a4');\n",
              "          const dataTable =\n",
              "            await google.colab.kernel.invokeFunction('convertToInteractive',\n",
              "                                                     [key], {});\n",
              "          if (!dataTable) return;\n",
              "\n",
              "          const docLinkHtml = 'Like what you see? Visit the ' +\n",
              "            '<a target=\"_blank\" href=https://colab.research.google.com/notebooks/data_table.ipynb>data table notebook</a>'\n",
              "            + ' to learn more about interactive tables.';\n",
              "          element.innerHTML = '';\n",
              "          dataTable['output_type'] = 'display_data';\n",
              "          await google.colab.output.renderOutput(dataTable, element);\n",
              "          const docLink = document.createElement('div');\n",
              "          docLink.innerHTML = docLinkHtml;\n",
              "          element.appendChild(docLink);\n",
              "        }\n",
              "      </script>\n",
              "    </div>\n",
              "  </div>\n",
              "  "
            ]
          },
          "metadata": {},
          "execution_count": 75
        }
      ]
    },
    {
      "cell_type": "code",
      "source": [
        "df.shape "
      ],
      "metadata": {
        "colab": {
          "base_uri": "https://localhost:8080/"
        },
        "id": "xejaCve0Csgl",
        "outputId": "bfcd6c59-e137-4874-a05c-df493c9a3984"
      },
      "execution_count": null,
      "outputs": [
        {
          "output_type": "execute_result",
          "data": {
            "text/plain": [
              "(150, 5)"
            ]
          },
          "metadata": {},
          "execution_count": 76
        }
      ]
    },
    {
      "cell_type": "code",
      "source": [
        "df.info()"
      ],
      "metadata": {
        "colab": {
          "base_uri": "https://localhost:8080/"
        },
        "id": "LuLhtABECzVK",
        "outputId": "84d8b829-db11-4d68-990b-ced0311baaac"
      },
      "execution_count": null,
      "outputs": [
        {
          "output_type": "stream",
          "name": "stdout",
          "text": [
            "<class 'pandas.core.frame.DataFrame'>\n",
            "RangeIndex: 150 entries, 0 to 149\n",
            "Data columns (total 5 columns):\n",
            " #   Column        Non-Null Count  Dtype  \n",
            "---  ------        --------------  -----  \n",
            " 0   sepal_length  150 non-null    float64\n",
            " 1   sepal_width   150 non-null    float64\n",
            " 2   petal_length  150 non-null    float64\n",
            " 3   petal_width   150 non-null    float64\n",
            " 4   species       150 non-null    object \n",
            "dtypes: float64(4), object(1)\n",
            "memory usage: 6.0+ KB\n"
          ]
        }
      ]
    },
    {
      "cell_type": "code",
      "source": [
        "df.isnull().sum()"
      ],
      "metadata": {
        "colab": {
          "base_uri": "https://localhost:8080/"
        },
        "id": "-iMMkCAU62nO",
        "outputId": "cc9a48eb-f821-4d44-aa08-a822703bd51d"
      },
      "execution_count": null,
      "outputs": [
        {
          "output_type": "execute_result",
          "data": {
            "text/plain": [
              "sepal_length    0\n",
              "sepal_width     0\n",
              "petal_length    0\n",
              "petal_width     0\n",
              "species         0\n",
              "dtype: int64"
            ]
          },
          "metadata": {},
          "execution_count": 78
        }
      ]
    },
    {
      "cell_type": "code",
      "source": [
        "#4.divide the into i/p\n",
        "#Input - speal length and speal width\n",
        "x = df.iloc[:,0:2].values\n",
        "x"
      ],
      "metadata": {
        "colab": {
          "base_uri": "https://localhost:8080/"
        },
        "id": "ifCCjzeRC5Ss",
        "outputId": "d0b50c12-594c-44dc-c1ef-128c17d9da2b"
      },
      "execution_count": null,
      "outputs": [
        {
          "output_type": "execute_result",
          "data": {
            "text/plain": [
              "array([[5.1, 3.5],\n",
              "       [4.9, 3. ],\n",
              "       [4.7, 3.2],\n",
              "       [4.6, 3.1],\n",
              "       [5. , 3.6],\n",
              "       [5.4, 3.9],\n",
              "       [4.6, 3.4],\n",
              "       [5. , 3.4],\n",
              "       [4.4, 2.9],\n",
              "       [4.9, 3.1],\n",
              "       [5.4, 3.7],\n",
              "       [4.8, 3.4],\n",
              "       [4.8, 3. ],\n",
              "       [4.3, 3. ],\n",
              "       [5.8, 4. ],\n",
              "       [5.7, 4.4],\n",
              "       [5.4, 3.9],\n",
              "       [5.1, 3.5],\n",
              "       [5.7, 3.8],\n",
              "       [5.1, 3.8],\n",
              "       [5.4, 3.4],\n",
              "       [5.1, 3.7],\n",
              "       [4.6, 3.6],\n",
              "       [5.1, 3.3],\n",
              "       [4.8, 3.4],\n",
              "       [5. , 3. ],\n",
              "       [5. , 3.4],\n",
              "       [5.2, 3.5],\n",
              "       [5.2, 3.4],\n",
              "       [4.7, 3.2],\n",
              "       [4.8, 3.1],\n",
              "       [5.4, 3.4],\n",
              "       [5.2, 4.1],\n",
              "       [5.5, 4.2],\n",
              "       [4.9, 3.1],\n",
              "       [5. , 3.2],\n",
              "       [5.5, 3.5],\n",
              "       [4.9, 3.6],\n",
              "       [4.4, 3. ],\n",
              "       [5.1, 3.4],\n",
              "       [5. , 3.5],\n",
              "       [4.5, 2.3],\n",
              "       [4.4, 3.2],\n",
              "       [5. , 3.5],\n",
              "       [5.1, 3.8],\n",
              "       [4.8, 3. ],\n",
              "       [5.1, 3.8],\n",
              "       [4.6, 3.2],\n",
              "       [5.3, 3.7],\n",
              "       [5. , 3.3],\n",
              "       [7. , 3.2],\n",
              "       [6.4, 3.2],\n",
              "       [6.9, 3.1],\n",
              "       [5.5, 2.3],\n",
              "       [6.5, 2.8],\n",
              "       [5.7, 2.8],\n",
              "       [6.3, 3.3],\n",
              "       [4.9, 2.4],\n",
              "       [6.6, 2.9],\n",
              "       [5.2, 2.7],\n",
              "       [5. , 2. ],\n",
              "       [5.9, 3. ],\n",
              "       [6. , 2.2],\n",
              "       [6.1, 2.9],\n",
              "       [5.6, 2.9],\n",
              "       [6.7, 3.1],\n",
              "       [5.6, 3. ],\n",
              "       [5.8, 2.7],\n",
              "       [6.2, 2.2],\n",
              "       [5.6, 2.5],\n",
              "       [5.9, 3.2],\n",
              "       [6.1, 2.8],\n",
              "       [6.3, 2.5],\n",
              "       [6.1, 2.8],\n",
              "       [6.4, 2.9],\n",
              "       [6.6, 3. ],\n",
              "       [6.8, 2.8],\n",
              "       [6.7, 3. ],\n",
              "       [6. , 2.9],\n",
              "       [5.7, 2.6],\n",
              "       [5.5, 2.4],\n",
              "       [5.5, 2.4],\n",
              "       [5.8, 2.7],\n",
              "       [6. , 2.7],\n",
              "       [5.4, 3. ],\n",
              "       [6. , 3.4],\n",
              "       [6.7, 3.1],\n",
              "       [6.3, 2.3],\n",
              "       [5.6, 3. ],\n",
              "       [5.5, 2.5],\n",
              "       [5.5, 2.6],\n",
              "       [6.1, 3. ],\n",
              "       [5.8, 2.6],\n",
              "       [5. , 2.3],\n",
              "       [5.6, 2.7],\n",
              "       [5.7, 3. ],\n",
              "       [5.7, 2.9],\n",
              "       [6.2, 2.9],\n",
              "       [5.1, 2.5],\n",
              "       [5.7, 2.8],\n",
              "       [6.3, 3.3],\n",
              "       [5.8, 2.7],\n",
              "       [7.1, 3. ],\n",
              "       [6.3, 2.9],\n",
              "       [6.5, 3. ],\n",
              "       [7.6, 3. ],\n",
              "       [4.9, 2.5],\n",
              "       [7.3, 2.9],\n",
              "       [6.7, 2.5],\n",
              "       [7.2, 3.6],\n",
              "       [6.5, 3.2],\n",
              "       [6.4, 2.7],\n",
              "       [6.8, 3. ],\n",
              "       [5.7, 2.5],\n",
              "       [5.8, 2.8],\n",
              "       [6.4, 3.2],\n",
              "       [6.5, 3. ],\n",
              "       [7.7, 3.8],\n",
              "       [7.7, 2.6],\n",
              "       [6. , 2.2],\n",
              "       [6.9, 3.2],\n",
              "       [5.6, 2.8],\n",
              "       [7.7, 2.8],\n",
              "       [6.3, 2.7],\n",
              "       [6.7, 3.3],\n",
              "       [7.2, 3.2],\n",
              "       [6.2, 2.8],\n",
              "       [6.1, 3. ],\n",
              "       [6.4, 2.8],\n",
              "       [7.2, 3. ],\n",
              "       [7.4, 2.8],\n",
              "       [7.9, 3.8],\n",
              "       [6.4, 2.8],\n",
              "       [6.3, 2.8],\n",
              "       [6.1, 2.6],\n",
              "       [7.7, 3. ],\n",
              "       [6.3, 3.4],\n",
              "       [6.4, 3.1],\n",
              "       [6. , 3. ],\n",
              "       [6.9, 3.1],\n",
              "       [6.7, 3.1],\n",
              "       [6.9, 3.1],\n",
              "       [5.8, 2.7],\n",
              "       [6.8, 3.2],\n",
              "       [6.7, 3.3],\n",
              "       [6.7, 3. ],\n",
              "       [6.3, 2.5],\n",
              "       [6.5, 3. ],\n",
              "       [6.2, 3.4],\n",
              "       [5.9, 3. ]])"
            ]
          },
          "metadata": {},
          "execution_count": 79
        }
      ]
    },
    {
      "cell_type": "code",
      "source": [
        "#STEP 5. VISUALISATION\n",
        "import matplotlib.pyplot as plt\n",
        "plt.scatter(df['sepal_length'],df['sepal_width'])\n"
      ],
      "metadata": {
        "id": "2fntiQf1DT-3",
        "colab": {
          "base_uri": "https://localhost:8080/",
          "height": 285
        },
        "outputId": "30d14451-0432-48fe-c8b4-6a39a8f50a02"
      },
      "execution_count": null,
      "outputs": [
        {
          "output_type": "execute_result",
          "data": {
            "text/plain": [
              "<matplotlib.collections.PathCollection at 0x7fab98ba8a50>"
            ]
          },
          "metadata": {},
          "execution_count": 80
        },
        {
          "output_type": "display_data",
          "data": {
            "text/plain": [
              "<Figure size 432x288 with 1 Axes>"
            ],
            "image/png": "[encoded data removed]"
          },
          "metadata": {
            "needs_background": "light"
          }
        }
      ]
    },
    {
      "cell_type": "code",
      "source": [
        "#-->Here we have got only one cluster before applying any clustering technique\n",
        "#-->Here our main task is to find out the number of clusters(k)"
      ],
      "metadata": {
        "id": "VQWITk0XN1Sw"
      },
      "execution_count": null,
      "outputs": []
    },
    {
      "cell_type": "code",
      "source": [
        "import numpy as np\n",
        "np.sqrt(150) "
      ],
      "metadata": {
        "colab": {
          "base_uri": "https://localhost:8080/"
        },
        "id": "p1mk2eIXaeMb",
        "outputId": "4f4527b1-6aba-4bdc-cdaf-0cfb34de5d9a"
      },
      "execution_count": null,
      "outputs": [
        {
          "output_type": "execute_result",
          "data": {
            "text/plain": [
              "12.24744871391589"
            ]
          },
          "metadata": {},
          "execution_count": 82
        }
      ]
    },
    {
      "cell_type": "code",
      "source": [
        "#-->150 is the total no of points\n",
        "#-->No of cluster - k\n",
        "#-->k value should not exceed the square root of the total no of points\n",
        "#-->Hence k value should be in the range of 2 to 13"
      ],
      "metadata": {
        "id": "IqYa_jj9OWgk"
      },
      "execution_count": null,
      "outputs": []
    },
    {
      "cell_type": "code",
      "source": [
        "#STEP.6\n",
        " #1.ELBOW METHOD - Slightly Confusing\n",
        " #2.SILHOUETTE SCORE METHOD - Very accurate"
      ],
      "metadata": {
        "id": "2gPSLq9KawBJ"
      },
      "execution_count": null,
      "outputs": []
    },
    {
      "cell_type": "code",
      "source": [
        "#1.ELBOW METHOD\n",
        "from sklearn.cluster import KMeans\n",
        "k = range(2,13)# my range is in between 2 and 13\n",
        "\n",
        "sse = [] #blank list\n",
        "\n",
        "#for i in range(2,13):\n",
        "for i in k :\n",
        "  model_demo = KMeans(n_clusters = i,random_state = 0)\n",
        "  model_demo.fit(x)\n",
        "  sse.append(model_demo.inertia_)#.inertia_ - calculates the sum of squared error\n",
        "plt.scatter(k,sse)\n",
        "plt.plot(k,sse)"
      ],
      "metadata": {
        "colab": {
          "base_uri": "https://localhost:8080/",
          "height": 284
        },
        "id": "LN6_9UYtbHMd",
        "outputId": "e1d91924-ec6e-46c4-a69d-f8071472c3af"
      },
      "execution_count": null,
      "outputs": [
        {
          "output_type": "execute_result",
          "data": {
            "text/plain": [
              "[<matplotlib.lines.Line2D at 0x7fab98ab0050>]"
            ]
          },
          "metadata": {},
          "execution_count": 85
        },
        {
          "output_type": "display_data",
          "data": {
            "text/plain": [
              "<Figure size 432x288 with 1 Axes>"
            ],
            "image/png": "[encoded data removed]"
          },
          "metadata": {
            "needs_background": "light"
          }
        }
      ]
    },
    {
      "cell_type": "code",
      "source": [
        "#-->We will now consider the point at which the eblow is more prominent (projecting from something)\n",
        "#-->We will consider k as 2 for now , but we are not sure"
      ],
      "metadata": {
        "id": "YG4jvgs6bMYI"
      },
      "execution_count": null,
      "outputs": []
    },
    {
      "cell_type": "code",
      "source": [
        "#2.SILHOUETTE SCORE METHOD\n",
        "from sklearn.metrics import silhouette_score\n",
        "k = range(2,13)\n",
        "for i in k:\n",
        "  model_demo = KMeans(n_clusters = i,random_state = 0)\n",
        "  model_demo.fit(x)\n",
        "  y_pred = model_demo.predict(x)\n",
        "  print(f\"{i} Clusters ,Score = {silhouette_score(x,y_pred)}\")\n",
        "  plt.bar(i,silhouette_score(x,y_pred))\n"
      ],
      "metadata": {
        "colab": {
          "base_uri": "https://localhost:8080/",
          "height": 456
        },
        "id": "fy42GiJUbV66",
        "outputId": "abf496b0-a3cf-40dc-d2cc-294572abf1da"
      },
      "execution_count": null,
      "outputs": [
        {
          "output_type": "stream",
          "name": "stdout",
          "text": [
            "2 Clusters ,Score = 0.4629549773635977\n",
            "3 Clusters ,Score = 0.4450525692083638\n",
            "4 Clusters ,Score = 0.4248889536419921\n",
            "5 Clusters ,Score = 0.41591694093833986\n",
            "6 Clusters ,Score = 0.3923771638679271\n",
            "7 Clusters ,Score = 0.3925384175947844\n",
            "8 Clusters ,Score = 0.39250337932445734\n",
            "9 Clusters ,Score = 0.3931993379479226\n",
            "10 Clusters ,Score = 0.3975905222677614\n",
            "11 Clusters ,Score = 0.41916230904718843\n",
            "12 Clusters ,Score = 0.409258489530843\n"
          ]
        },
        {
          "output_type": "display_data",
          "data": {
            "text/plain": [
              "<Figure size 432x288 with 1 Axes>"
            ],
            "image/png": "[encoded data removed]"
          },
          "metadata": {
            "needs_background": "light"
          }
        }
      ]
    },
    {
      "cell_type": "code",
      "source": [
        "#-->CONFIRMATION : THE No OF CLUSTERS TO BE CONSIDERED IS 2."
      ],
      "metadata": {
        "id": "2zu-4maZbaGa"
      },
      "execution_count": null,
      "outputs": []
    },
    {
      "cell_type": "code",
      "source": [
        "#7.APPLY CLUSTERER\n",
        "k = 2\n",
        "from sklearn.cluster import KMeans\n",
        "\n",
        "model = KMeans(n_clusters = k,random_state = 0)\n",
        "model.fit(x)"
      ],
      "metadata": {
        "colab": {
          "base_uri": "https://localhost:8080/"
        },
        "id": "Pt5oQes2bgrL",
        "outputId": "a6a04cd0-b6be-4a0f-b7cb-3d14dcc2aa50"
      },
      "execution_count": null,
      "outputs": [
        {
          "output_type": "execute_result",
          "data": {
            "text/plain": [
              "KMeans(n_clusters=2, random_state=0)"
            ]
          },
          "metadata": {},
          "execution_count": 89
        }
      ]
    },
    {
      "cell_type": "code",
      "source": [
        "\n",
        "y = model.predict(x) #predicted output\n",
        "y"
      ],
      "metadata": {
        "colab": {
          "base_uri": "https://localhost:8080/"
        },
        "id": "nBN3PBNDblTl",
        "outputId": "b947c85b-cd5c-4eab-993e-ddb26830cbfb"
      },
      "execution_count": null,
      "outputs": [
        {
          "output_type": "execute_result",
          "data": {
            "text/plain": [
              "array([0, 0, 0, 0, 0, 0, 0, 0, 0, 0, 0, 0, 0, 0, 0, 0, 0, 0, 0, 0, 0, 0,\n",
              "       0, 0, 0, 0, 0, 0, 0, 0, 0, 0, 0, 0, 0, 0, 0, 0, 0, 0, 0, 0, 0, 0,\n",
              "       0, 0, 0, 0, 0, 0, 1, 1, 1, 0, 1, 0, 1, 0, 1, 0, 0, 0, 1, 1, 0, 1,\n",
              "       0, 0, 1, 0, 0, 1, 1, 1, 1, 1, 1, 1, 1, 0, 0, 0, 0, 1, 0, 1, 1, 1,\n",
              "       0, 0, 0, 1, 0, 0, 0, 0, 0, 1, 0, 0, 1, 0, 1, 1, 1, 1, 0, 1, 1, 1,\n",
              "       1, 1, 1, 0, 0, 1, 1, 1, 1, 1, 1, 0, 1, 1, 1, 1, 1, 1, 1, 1, 1, 1,\n",
              "       1, 1, 1, 1, 1, 1, 1, 1, 1, 1, 0, 1, 1, 1, 1, 1, 1, 0], dtype=int32)"
            ]
          },
          "metadata": {},
          "execution_count": 90
        }
      ]
    },
    {
      "cell_type": "code",
      "source": [
        "y.size"
      ],
      "metadata": {
        "colab": {
          "base_uri": "https://localhost:8080/"
        },
        "id": "-wt883MfbrZP",
        "outputId": "fd640a6d-c9a5-436a-8f46-5ada9ef4bcb4"
      },
      "execution_count": null,
      "outputs": [
        {
          "output_type": "execute_result",
          "data": {
            "text/plain": [
              "150"
            ]
          },
          "metadata": {},
          "execution_count": 91
        }
      ]
    },
    {
      "cell_type": "code",
      "source": [
        "x[y == 1,1]\n",
        "#--> so the first '1' is cluster no 1 and the second '1' is column index 1 \n",
        "#--> the value of input,when cluster 1 is selected and column index 1 selected"
      ],
      "metadata": {
        "colab": {
          "base_uri": "https://localhost:8080/"
        },
        "id": "ttHC3mXkb090",
        "outputId": "7a61078f-87be-4cb6-fd2c-79fab8446363"
      },
      "execution_count": null,
      "outputs": [
        {
          "output_type": "execute_result",
          "data": {
            "text/plain": [
              "array([3.2, 3.2, 3.1, 2.8, 3.3, 2.9, 2.2, 2.9, 3.1, 2.2, 2.8, 2.5, 2.8,\n",
              "       2.9, 3. , 2.8, 3. , 2.9, 2.7, 3.4, 3.1, 2.3, 3. , 2.9, 3.3, 3. ,\n",
              "       2.9, 3. , 3. , 2.9, 2.5, 3.6, 3.2, 2.7, 3. , 3.2, 3. , 3.8, 2.6,\n",
              "       2.2, 3.2, 2.8, 2.7, 3.3, 3.2, 2.8, 3. , 2.8, 3. , 2.8, 3.8, 2.8,\n",
              "       2.8, 2.6, 3. , 3.4, 3.1, 3. , 3.1, 3.1, 3.1, 3.2, 3.3, 3. , 2.5,\n",
              "       3. , 3.4])"
            ]
          },
          "metadata": {},
          "execution_count": 92
        }
      ]
    },
    {
      "cell_type": "code",
      "source": [
        "np.unique(y,return_counts = True)"
      ],
      "metadata": {
        "colab": {
          "base_uri": "https://localhost:8080/"
        },
        "id": "bVhU3Pc3b15J",
        "outputId": "b3bf4133-a2ad-4726-d6fc-4a19a09263f4"
      },
      "execution_count": null,
      "outputs": [
        {
          "output_type": "execute_result",
          "data": {
            "text/plain": [
              "(array([0, 1], dtype=int32), array([83, 67]))"
            ]
          },
          "metadata": {},
          "execution_count": 93
        }
      ]
    },
    {
      "cell_type": "code",
      "source": [
        "#STEP 8. FINAL VISUALISATION\n",
        "plt.figure(figsize = (10,5))\n",
        "for i in range(k):\n",
        "  plt.scatter(x[y == i,0],x[y == i,1],label = f'Cluster {i}')\n",
        "plt.scatter(model.cluster_centers_[:,0],model.cluster_centers_[:,1],s = 300,c = 'yellow',\n",
        "            label = 'Centroids')\n",
        "plt.legend()"
      ],
      "metadata": {
        "colab": {
          "base_uri": "https://localhost:8080/",
          "height": 339
        },
        "id": "3Ku8LQdJb94-",
        "outputId": "f92c7946-fe73-4d15-c959-5afb8872acbd"
      },
      "execution_count": null,
      "outputs": [
        {
          "output_type": "execute_result",
          "data": {
            "text/plain": [
              "<matplotlib.legend.Legend at 0x7fab989f7050>"
            ]
          },
          "metadata": {},
          "execution_count": 94
        },
        {
          "output_type": "display_data",
          "data": {
            "text/plain": [
              "<Figure size 720x360 with 1 Axes>"
            ],
            "image/png": "[encoded data removed]"
          },
          "metadata": {
            "needs_background": "light"
          }
        }
      ]
    },
    {
      "cell_type": "code",
      "source": [],
      "metadata": {
        "id": "w9DcYs_b1RtC"
      },
      "execution_count": null,
      "outputs": []
    },
    {
      "cell_type": "code",
      "source": [
        "#CONCLUSION:\n",
        "# The results of the K-means clustering algorithm are: The centroids of the K clusters, which can be used to label new data. \n",
        "# K-means clustering is the unsupervised machine learning algorithm that is part of a much deep pool of data techniques \n",
        "#and operations in the realm of Data Science. It is the fastest and most efficient algorithm to categorize data points\n",
        "# into groups even when very little information is available about data."
      ],
      "metadata": {
        "id": "R5zE73x5cDiq"
      },
      "execution_count": null,
      "outputs": []
    },
    {
      "cell_type": "code",
      "source": [],
      "metadata": {
        "id": "rKIiqtLMH3MT"
      },
      "execution_count": null,
      "outputs": []
    }
  ]
}