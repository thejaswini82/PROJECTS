{
  "nbformat": 4,
  "nbformat_minor": 0,
  "metadata": {
    "colab": {
      "provenance": [],
      "authorship_tag": "ABX9TyOL+2Fgl4tu1XAoHp6oanEw",
      "include_colab_link": true
    },
    "kernelspec": {
      "name": "python3",
      "display_name": "Python 3"
    },
    "language_info": {
      "name": "python"
    }
  },
  "cells": [
    {
      "cell_type": "markdown",
      "metadata": {
        "id": "view-in-github",
        "colab_type": "text"
      },
      "source": [
        "<a href=\"https://colab.research.google.com/github/thejaswini82/PROJECTS/blob/main/LOGISTIC_AND_LINEAR_REGRESSION.ipynb\" target=\"_parent\"><img src=\"https://colab.research.google.com/assets/colab-badge.svg\" alt=\"Open In Colab\"/></a>"
      ]
    },
    {
      "cell_type": "code",
      "execution_count": null,
      "metadata": {
        "id": "zAptZvdjHHnX"
      },
      "outputs": [],
      "source": []
    },
    {
      "cell_type": "code",
      "source": [
        "#LOGISTIC REGRESSION - CLASSIFICATION TECHNIQUE"
      ],
      "metadata": {
        "id": "VYMzzkXpy_St"
      },
      "execution_count": null,
      "outputs": []
    },
    {
      "cell_type": "code",
      "source": [
        "#Take a dataset and create frame\n",
        "#dataset - https://raw.githubusercontent.com/thejaswini82/DATASETS/main/autompg.csv"
      ],
      "metadata": {
        "id": "ZruwdijyzRvb"
      },
      "execution_count": null,
      "outputs": []
    },
    {
      "cell_type": "code",
      "source": [
        "import pandas as pd\n",
        "df = pd.read_csv('https://raw.githubusercontent.com/thejaswini82/DATASETS/main/autompg.csv')\n",
        "df"
      ],
      "metadata": {
        "id": "0EGJJGE1HM8f",
        "outputId": "9dad55a9-f399-40e6-c0c7-ce600257c3c0",
        "colab": {
          "base_uri": "https://localhost:8080/",
          "height": 424
        }
      },
      "execution_count": null,
      "outputs": [
        {
          "output_type": "execute_result",
          "data": {
            "text/plain": [
              "      mpg  cylinders  displacement horsepower  weight  acceleration  \\\n",
              "0    18.0          8         307.0        130    3504          12.0   \n",
              "1    15.0          8         350.0        165    3693          11.5   \n",
              "2    18.0          8         318.0        150    3436          11.0   \n",
              "3    16.0          8         304.0        150    3433          12.0   \n",
              "4    17.0          8         302.0        140    3449          10.5   \n",
              "..    ...        ...           ...        ...     ...           ...   \n",
              "393  27.0          4         140.0         86    2790          15.6   \n",
              "394  44.0          4          97.0         52    2130          24.6   \n",
              "395  32.0          4         135.0         84    2295          11.6   \n",
              "396  28.0          4         120.0         79    2625          18.6   \n",
              "397  31.0          4         119.0         82    2720          19.4   \n",
              "\n",
              "     model year  origin                   car name  \n",
              "0            70       1  chevrolet chevelle malibu  \n",
              "1            70       1          buick skylark 320  \n",
              "2            70       1         plymouth satellite  \n",
              "3            70       1              amc rebel sst  \n",
              "4            70       1                ford torino  \n",
              "..          ...     ...                        ...  \n",
              "393          82       1            ford mustang gl  \n",
              "394          82       2                  vw pickup  \n",
              "395          82       1              dodge rampage  \n",
              "396          82       1                ford ranger  \n",
              "397          82       1                 chevy s-10  \n",
              "\n",
              "[398 rows x 9 columns]"
            ],
            "text/html": [
              "\n",
              "  <div id=\"df-fcc882d7-a6d4-41dd-a8ce-9a54e8ca15b6\">\n",
              "    <div class=\"colab-df-container\">\n",
              "      <div>\n",
              "<style scoped>\n",
              "    .dataframe tbody tr th:only-of-type {\n",
              "        vertical-align: middle;\n",
              "    }\n",
              "\n",
              "    .dataframe tbody tr th {\n",
              "        vertical-align: top;\n",
              "    }\n",
              "\n",
              "    .dataframe thead th {\n",
              "        text-align: right;\n",
              "    }\n",
              "</style>\n",
              "<table border=\"1\" class=\"dataframe\">\n",
              "  <thead>\n",
              "    <tr style=\"text-align: right;\">\n",
              "      <th></th>\n",
              "      <th>mpg</th>\n",
              "      <th>cylinders</th>\n",
              "      <th>displacement</th>\n",
              "      <th>horsepower</th>\n",
              "      <th>weight</th>\n",
              "      <th>acceleration</th>\n",
              "      <th>model year</th>\n",
              "      <th>origin</th>\n",
              "      <th>car name</th>\n",
              "    </tr>\n",
              "  </thead>\n",
              "  <tbody>\n",
              "    <tr>\n",
              "      <th>0</th>\n",
              "      <td>18.0</td>\n",
              "      <td>8</td>\n",
              "      <td>307.0</td>\n",
              "      <td>130</td>\n",
              "      <td>3504</td>\n",
              "      <td>12.0</td>\n",
              "      <td>70</td>\n",
              "      <td>1</td>\n",
              "      <td>chevrolet chevelle malibu</td>\n",
              "    </tr>\n",
              "    <tr>\n",
              "      <th>1</th>\n",
              "      <td>15.0</td>\n",
              "      <td>8</td>\n",
              "      <td>350.0</td>\n",
              "      <td>165</td>\n",
              "      <td>3693</td>\n",
              "      <td>11.5</td>\n",
              "      <td>70</td>\n",
              "      <td>1</td>\n",
              "      <td>buick skylark 320</td>\n",
              "    </tr>\n",
              "    <tr>\n",
              "      <th>2</th>\n",
              "      <td>18.0</td>\n",
              "      <td>8</td>\n",
              "      <td>318.0</td>\n",
              "      <td>150</td>\n",
              "      <td>3436</td>\n",
              "      <td>11.0</td>\n",
              "      <td>70</td>\n",
              "      <td>1</td>\n",
              "      <td>plymouth satellite</td>\n",
              "    </tr>\n",
              "    <tr>\n",
              "      <th>3</th>\n",
              "      <td>16.0</td>\n",
              "      <td>8</td>\n",
              "      <td>304.0</td>\n",
              "      <td>150</td>\n",
              "      <td>3433</td>\n",
              "      <td>12.0</td>\n",
              "      <td>70</td>\n",
              "      <td>1</td>\n",
              "      <td>amc rebel sst</td>\n",
              "    </tr>\n",
              "    <tr>\n",
              "      <th>4</th>\n",
              "      <td>17.0</td>\n",
              "      <td>8</td>\n",
              "      <td>302.0</td>\n",
              "      <td>140</td>\n",
              "      <td>3449</td>\n",
              "      <td>10.5</td>\n",
              "      <td>70</td>\n",
              "      <td>1</td>\n",
              "      <td>ford torino</td>\n",
              "    </tr>\n",
              "    <tr>\n",
              "      <th>...</th>\n",
              "      <td>...</td>\n",
              "      <td>...</td>\n",
              "      <td>...</td>\n",
              "      <td>...</td>\n",
              "      <td>...</td>\n",
              "      <td>...</td>\n",
              "      <td>...</td>\n",
              "      <td>...</td>\n",
              "      <td>...</td>\n",
              "    </tr>\n",
              "    <tr>\n",
              "      <th>393</th>\n",
              "      <td>27.0</td>\n",
              "      <td>4</td>\n",
              "      <td>140.0</td>\n",
              "      <td>86</td>\n",
              "      <td>2790</td>\n",
              "      <td>15.6</td>\n",
              "      <td>82</td>\n",
              "      <td>1</td>\n",
              "      <td>ford mustang gl</td>\n",
              "    </tr>\n",
              "    <tr>\n",
              "      <th>394</th>\n",
              "      <td>44.0</td>\n",
              "      <td>4</td>\n",
              "      <td>97.0</td>\n",
              "      <td>52</td>\n",
              "      <td>2130</td>\n",
              "      <td>24.6</td>\n",
              "      <td>82</td>\n",
              "      <td>2</td>\n",
              "      <td>vw pickup</td>\n",
              "    </tr>\n",
              "    <tr>\n",
              "      <th>395</th>\n",
              "      <td>32.0</td>\n",
              "      <td>4</td>\n",
              "      <td>135.0</td>\n",
              "      <td>84</td>\n",
              "      <td>2295</td>\n",
              "      <td>11.6</td>\n",
              "      <td>82</td>\n",
              "      <td>1</td>\n",
              "      <td>dodge rampage</td>\n",
              "    </tr>\n",
              "    <tr>\n",
              "      <th>396</th>\n",
              "      <td>28.0</td>\n",
              "      <td>4</td>\n",
              "      <td>120.0</td>\n",
              "      <td>79</td>\n",
              "      <td>2625</td>\n",
              "      <td>18.6</td>\n",
              "      <td>82</td>\n",
              "      <td>1</td>\n",
              "      <td>ford ranger</td>\n",
              "    </tr>\n",
              "    <tr>\n",
              "      <th>397</th>\n",
              "      <td>31.0</td>\n",
              "      <td>4</td>\n",
              "      <td>119.0</td>\n",
              "      <td>82</td>\n",
              "      <td>2720</td>\n",
              "      <td>19.4</td>\n",
              "      <td>82</td>\n",
              "      <td>1</td>\n",
              "      <td>chevy s-10</td>\n",
              "    </tr>\n",
              "  </tbody>\n",
              "</table>\n",
              "<p>398 rows × 9 columns</p>\n",
              "</div>\n",
              "      <button class=\"colab-df-convert\" onclick=\"convertToInteractive('df-fcc882d7-a6d4-41dd-a8ce-9a54e8ca15b6')\"\n",
              "              title=\"Convert this dataframe to an interactive table.\"\n",
              "              style=\"display:none;\">\n",
              "        \n",
              "  <svg xmlns=\"http://www.w3.org/2000/svg\" height=\"24px\"viewBox=\"0 0 24 24\"\n",
              "       width=\"24px\">\n",
              "    <path d=\"M0 0h24v24H0V0z\" fill=\"none\"/>\n",
              "    <path d=\"M18.56 5.44l.94 2.06.94-2.06 2.06-.94-2.06-.94-.94-2.06-.94 2.06-2.06.94zm-11 1L8.5 8.5l.94-2.06 2.06-.94-2.06-.94L8.5 2.5l-.94 2.06-2.06.94zm10 10l.94 2.06.94-2.06 2.06-.94-2.06-.94-.94-2.06-.94 2.06-2.06.94z\"/><path d=\"M17.41 7.96l-1.37-1.37c-.4-.4-.92-.59-1.43-.59-.52 0-1.04.2-1.43.59L10.3 9.45l-7.72 7.72c-.78.78-.78 2.05 0 2.83L4 21.41c.39.39.9.59 1.41.59.51 0 1.02-.2 1.41-.59l7.78-7.78 2.81-2.81c.8-.78.8-2.07 0-2.86zM5.41 20L4 18.59l7.72-7.72 1.47 1.35L5.41 20z\"/>\n",
              "  </svg>\n",
              "      </button>\n",
              "      \n",
              "  <style>\n",
              "    .colab-df-container {\n",
              "      display:flex;\n",
              "      flex-wrap:wrap;\n",
              "      gap: 12px;\n",
              "    }\n",
              "\n",
              "    .colab-df-convert {\n",
              "      background-color: #E8F0FE;\n",
              "      border: none;\n",
              "      border-radius: 50%;\n",
              "      cursor: pointer;\n",
              "      display: none;\n",
              "      fill: #1967D2;\n",
              "      height: 32px;\n",
              "      padding: 0 0 0 0;\n",
              "      width: 32px;\n",
              "    }\n",
              "\n",
              "    .colab-df-convert:hover {\n",
              "      background-color: #E2EBFA;\n",
              "      box-shadow: 0px 1px 2px rgba(60, 64, 67, 0.3), 0px 1px 3px 1px rgba(60, 64, 67, 0.15);\n",
              "      fill: #174EA6;\n",
              "    }\n",
              "\n",
              "    [theme=dark] .colab-df-convert {\n",
              "      background-color: #3B4455;\n",
              "      fill: #D2E3FC;\n",
              "    }\n",
              "\n",
              "    [theme=dark] .colab-df-convert:hover {\n",
              "      background-color: #434B5C;\n",
              "      box-shadow: 0px 1px 3px 1px rgba(0, 0, 0, 0.15);\n",
              "      filter: drop-shadow(0px 1px 2px rgba(0, 0, 0, 0.3));\n",
              "      fill: #FFFFFF;\n",
              "    }\n",
              "  </style>\n",
              "\n",
              "      <script>\n",
              "        const buttonEl =\n",
              "          document.querySelector('#df-fcc882d7-a6d4-41dd-a8ce-9a54e8ca15b6 button.colab-df-convert');\n",
              "        buttonEl.style.display =\n",
              "          google.colab.kernel.accessAllowed ? 'block' : 'none';\n",
              "\n",
              "        async function convertToInteractive(key) {\n",
              "          const element = document.querySelector('#df-fcc882d7-a6d4-41dd-a8ce-9a54e8ca15b6');\n",
              "          const dataTable =\n",
              "            await google.colab.kernel.invokeFunction('convertToInteractive',\n",
              "                                                     [key], {});\n",
              "          if (!dataTable) return;\n",
              "\n",
              "          const docLinkHtml = 'Like what you see? Visit the ' +\n",
              "            '<a target=\"_blank\" href=https://colab.research.google.com/notebooks/data_table.ipynb>data table notebook</a>'\n",
              "            + ' to learn more about interactive tables.';\n",
              "          element.innerHTML = '';\n",
              "          dataTable['output_type'] = 'display_data';\n",
              "          await google.colab.output.renderOutput(dataTable, element);\n",
              "          const docLink = document.createElement('div');\n",
              "          docLink.innerHTML = docLinkHtml;\n",
              "          element.appendChild(docLink);\n",
              "        }\n",
              "      </script>\n",
              "    </div>\n",
              "  </div>\n",
              "  "
            ]
          },
          "metadata": {},
          "execution_count": 171
        }
      ]
    },
    {
      "cell_type": "code",
      "source": [
        "df.info()"
      ],
      "metadata": {
        "id": "Ae44PVnXSpC9",
        "colab": {
          "base_uri": "https://localhost:8080/"
        },
        "outputId": "eacb9f2c-1008-4307-81ae-2e9931fe2083"
      },
      "execution_count": null,
      "outputs": [
        {
          "output_type": "stream",
          "name": "stdout",
          "text": [
            "<class 'pandas.core.frame.DataFrame'>\n",
            "RangeIndex: 398 entries, 0 to 397\n",
            "Data columns (total 9 columns):\n",
            " #   Column        Non-Null Count  Dtype  \n",
            "---  ------        --------------  -----  \n",
            " 0   mpg           398 non-null    float64\n",
            " 1   cylinders     398 non-null    int64  \n",
            " 2   displacement  398 non-null    float64\n",
            " 3   horsepower    398 non-null    object \n",
            " 4   weight        398 non-null    int64  \n",
            " 5   acceleration  398 non-null    float64\n",
            " 6   model year    398 non-null    int64  \n",
            " 7   origin        398 non-null    int64  \n",
            " 8   car name      398 non-null    object \n",
            "dtypes: float64(3), int64(4), object(2)\n",
            "memory usage: 28.1+ KB\n"
          ]
        }
      ]
    },
    {
      "cell_type": "code",
      "source": [
        "df.shape\n"
      ],
      "metadata": {
        "colab": {
          "base_uri": "https://localhost:8080/"
        },
        "id": "-E2yAH94tsyR",
        "outputId": "b0b7136b-4d05-4135-a077-dacee4851a6b"
      },
      "execution_count": null,
      "outputs": [
        {
          "output_type": "execute_result",
          "data": {
            "text/plain": [
              "(398, 9)"
            ]
          },
          "metadata": {},
          "execution_count": 173
        }
      ]
    },
    {
      "cell_type": "code",
      "source": [
        "df.size"
      ],
      "metadata": {
        "colab": {
          "base_uri": "https://localhost:8080/"
        },
        "id": "R5_CI0fntwMX",
        "outputId": "40038d22-0232-423d-b4bc-b6888b1e6897"
      },
      "execution_count": null,
      "outputs": [
        {
          "output_type": "execute_result",
          "data": {
            "text/plain": [
              "3582"
            ]
          },
          "metadata": {},
          "execution_count": 174
        }
      ]
    },
    {
      "cell_type": "code",
      "source": [
        "#input- weight and model year\n",
        "#output- origin"
      ],
      "metadata": {
        "id": "AfzaIuQKtxuY"
      },
      "execution_count": null,
      "outputs": []
    },
    {
      "cell_type": "code",
      "source": [
        "df['origin'].value_counts()"
      ],
      "metadata": {
        "colab": {
          "base_uri": "https://localhost:8080/"
        },
        "id": "_IH0pZ70u6QB",
        "outputId": "016f3313-838f-453c-e244-f8c9ef58e062"
      },
      "execution_count": null,
      "outputs": [
        {
          "output_type": "execute_result",
          "data": {
            "text/plain": [
              "1    249\n",
              "3     79\n",
              "2     70\n",
              "Name: origin, dtype: int64"
            ]
          },
          "metadata": {},
          "execution_count": 176
        }
      ]
    },
    {
      "cell_type": "code",
      "source": [
        "x = df.iloc[:,4:6].values \n",
        "x"
      ],
      "metadata": {
        "colab": {
          "base_uri": "https://localhost:8080/"
        },
        "id": "3A0WWYC5vGtH",
        "outputId": "a02afd45-e7f9-4f0c-d390-3fd68e3d6366"
      },
      "execution_count": null,
      "outputs": [
        {
          "output_type": "execute_result",
          "data": {
            "text/plain": [
              "array([[3504. ,   12. ],\n",
              "       [3693. ,   11.5],\n",
              "       [3436. ,   11. ],\n",
              "       [3433. ,   12. ],\n",
              "       [3449. ,   10.5],\n",
              "       [4341. ,   10. ],\n",
              "       [4354. ,    9. ],\n",
              "       [4312. ,    8.5],\n",
              "       [4425. ,   10. ],\n",
              "       [3850. ,    8.5],\n",
              "       [3563. ,   10. ],\n",
              "       [3609. ,    8. ],\n",
              "       [3761. ,    9.5],\n",
              "       [3086. ,   10. ],\n",
              "       [2372. ,   15. ],\n",
              "       [2833. ,   15.5],\n",
              "       [2774. ,   15.5],\n",
              "       [2587. ,   16. ],\n",
              "       [2130. ,   14.5],\n",
              "       [1835. ,   20.5],\n",
              "       [2672. ,   17.5],\n",
              "       [2430. ,   14.5],\n",
              "       [2375. ,   17.5],\n",
              "       [2234. ,   12.5],\n",
              "       [2648. ,   15. ],\n",
              "       [4615. ,   14. ],\n",
              "       [4376. ,   15. ],\n",
              "       [4382. ,   13.5],\n",
              "       [4732. ,   18.5],\n",
              "       [2130. ,   14.5],\n",
              "       [2264. ,   15.5],\n",
              "       [2228. ,   14. ],\n",
              "       [2046. ,   19. ],\n",
              "       [2634. ,   13. ],\n",
              "       [3439. ,   15.5],\n",
              "       [3329. ,   15.5],\n",
              "       [3302. ,   15.5],\n",
              "       [3288. ,   15.5],\n",
              "       [4209. ,   12. ],\n",
              "       [4464. ,   11.5],\n",
              "       [4154. ,   13.5],\n",
              "       [4096. ,   13. ],\n",
              "       [4955. ,   11.5],\n",
              "       [4746. ,   12. ],\n",
              "       [5140. ,   12. ],\n",
              "       [2962. ,   13.5],\n",
              "       [2408. ,   19. ],\n",
              "       [3282. ,   15. ],\n",
              "       [3139. ,   14.5],\n",
              "       [2220. ,   14. ],\n",
              "       [2123. ,   14. ],\n",
              "       [2074. ,   19.5],\n",
              "       [2065. ,   14.5],\n",
              "       [1773. ,   19. ],\n",
              "       [1613. ,   18. ],\n",
              "       [1834. ,   19. ],\n",
              "       [1955. ,   20.5],\n",
              "       [2278. ,   15.5],\n",
              "       [2126. ,   17. ],\n",
              "       [2254. ,   23.5],\n",
              "       [2408. ,   19.5],\n",
              "       [2226. ,   16.5],\n",
              "       [4274. ,   12. ],\n",
              "       [4385. ,   12. ],\n",
              "       [4135. ,   13.5],\n",
              "       [4129. ,   13. ],\n",
              "       [3672. ,   11.5],\n",
              "       [4633. ,   11. ],\n",
              "       [4502. ,   13.5],\n",
              "       [4456. ,   13.5],\n",
              "       [4422. ,   12.5],\n",
              "       [2330. ,   13.5],\n",
              "       [3892. ,   12.5],\n",
              "       [4098. ,   14. ],\n",
              "       [4294. ,   16. ],\n",
              "       [4077. ,   14. ],\n",
              "       [2933. ,   14.5],\n",
              "       [2511. ,   18. ],\n",
              "       [2979. ,   19.5],\n",
              "       [2189. ,   18. ],\n",
              "       [2395. ,   16. ],\n",
              "       [2288. ,   17. ],\n",
              "       [2506. ,   14.5],\n",
              "       [2164. ,   15. ],\n",
              "       [2100. ,   16.5],\n",
              "       [4100. ,   13. ],\n",
              "       [3672. ,   11.5],\n",
              "       [3988. ,   13. ],\n",
              "       [4042. ,   14.5],\n",
              "       [3777. ,   12.5],\n",
              "       [4952. ,   11.5],\n",
              "       [4464. ,   12. ],\n",
              "       [4363. ,   13. ],\n",
              "       [4237. ,   14.5],\n",
              "       [4735. ,   11. ],\n",
              "       [4951. ,   11. ],\n",
              "       [3821. ,   11. ],\n",
              "       [3121. ,   16.5],\n",
              "       [3278. ,   18. ],\n",
              "       [2945. ,   16. ],\n",
              "       [3021. ,   16.5],\n",
              "       [2904. ,   16. ],\n",
              "       [1950. ,   21. ],\n",
              "       [4997. ,   14. ],\n",
              "       [4906. ,   12.5],\n",
              "       [4654. ,   13. ],\n",
              "       [4499. ,   12.5],\n",
              "       [2789. ,   15. ],\n",
              "       [2279. ,   19. ],\n",
              "       [2401. ,   19.5],\n",
              "       [2379. ,   16.5],\n",
              "       [2124. ,   13.5],\n",
              "       [2310. ,   18.5],\n",
              "       [2472. ,   14. ],\n",
              "       [2265. ,   15.5],\n",
              "       [4082. ,   13. ],\n",
              "       [4278. ,    9.5],\n",
              "       [1867. ,   19.5],\n",
              "       [2158. ,   15.5],\n",
              "       [2582. ,   14. ],\n",
              "       [2868. ,   15.5],\n",
              "       [3399. ,   11. ],\n",
              "       [2660. ,   14. ],\n",
              "       [2807. ,   13.5],\n",
              "       [3664. ,   11. ],\n",
              "       [3102. ,   16.5],\n",
              "       [2875. ,   17. ],\n",
              "       [2901. ,   16. ],\n",
              "       [3336. ,   17. ],\n",
              "       [1950. ,   19. ],\n",
              "       [2451. ,   16.5],\n",
              "       [1836. ,   21. ],\n",
              "       [2542. ,   17. ],\n",
              "       [3781. ,   17. ],\n",
              "       [3632. ,   18. ],\n",
              "       [3613. ,   16.5],\n",
              "       [4141. ,   14. ],\n",
              "       [4699. ,   14.5],\n",
              "       [4457. ,   13.5],\n",
              "       [4638. ,   16. ],\n",
              "       [4257. ,   15.5],\n",
              "       [2219. ,   16.5],\n",
              "       [1963. ,   15.5],\n",
              "       [2300. ,   14.5],\n",
              "       [1649. ,   16.5],\n",
              "       [2003. ,   19. ],\n",
              "       [2125. ,   14.5],\n",
              "       [2108. ,   15.5],\n",
              "       [2246. ,   14. ],\n",
              "       [2489. ,   15. ],\n",
              "       [2391. ,   15.5],\n",
              "       [2000. ,   16. ],\n",
              "       [3264. ,   16. ],\n",
              "       [3459. ,   16. ],\n",
              "       [3432. ,   21. ],\n",
              "       [3158. ,   19.5],\n",
              "       [4668. ,   11.5],\n",
              "       [4440. ,   14. ],\n",
              "       [4498. ,   14.5],\n",
              "       [4657. ,   13.5],\n",
              "       [3907. ,   21. ],\n",
              "       [3897. ,   18.5],\n",
              "       [3730. ,   19. ],\n",
              "       [3785. ,   19. ],\n",
              "       [3039. ,   15. ],\n",
              "       [3221. ,   13.5],\n",
              "       [3169. ,   12. ],\n",
              "       [2171. ,   16. ],\n",
              "       [2639. ,   17. ],\n",
              "       [2914. ,   16. ],\n",
              "       [2592. ,   18.5],\n",
              "       [2702. ,   13.5],\n",
              "       [2223. ,   16.5],\n",
              "       [2545. ,   17. ],\n",
              "       [2984. ,   14.5],\n",
              "       [1937. ,   14. ],\n",
              "       [3211. ,   17. ],\n",
              "       [2694. ,   15. ],\n",
              "       [2957. ,   17. ],\n",
              "       [2945. ,   14.5],\n",
              "       [2671. ,   13.5],\n",
              "       [1795. ,   17.5],\n",
              "       [2464. ,   15.5],\n",
              "       [2220. ,   16.9],\n",
              "       [2572. ,   14.9],\n",
              "       [2255. ,   17.7],\n",
              "       [2202. ,   15.3],\n",
              "       [4215. ,   13. ],\n",
              "       [4190. ,   13. ],\n",
              "       [3962. ,   13.9],\n",
              "       [4215. ,   12.8],\n",
              "       [3233. ,   15.4],\n",
              "       [3353. ,   14.5],\n",
              "       [3012. ,   17.6],\n",
              "       [3085. ,   17.6],\n",
              "       [2035. ,   22.2],\n",
              "       [2164. ,   22.1],\n",
              "       [1937. ,   14.2],\n",
              "       [1795. ,   17.4],\n",
              "       [3651. ,   17.7],\n",
              "       [3574. ,   21. ],\n",
              "       [3645. ,   16.2],\n",
              "       [3193. ,   17.8],\n",
              "       [1825. ,   12.2],\n",
              "       [1990. ,   17. ],\n",
              "       [2155. ,   16.4],\n",
              "       [2565. ,   13.6],\n",
              "       [3150. ,   15.7],\n",
              "       [3940. ,   13.2],\n",
              "       [3270. ,   21.9],\n",
              "       [2930. ,   15.5],\n",
              "       [3820. ,   16.7],\n",
              "       [4380. ,   12.1],\n",
              "       [4055. ,   12. ],\n",
              "       [3870. ,   15. ],\n",
              "       [3755. ,   14. ],\n",
              "       [2045. ,   18.5],\n",
              "       [2155. ,   14.8],\n",
              "       [1825. ,   18.6],\n",
              "       [2300. ,   15.5],\n",
              "       [1945. ,   16.8],\n",
              "       [3880. ,   12.5],\n",
              "       [4060. ,   19. ],\n",
              "       [4140. ,   13.7],\n",
              "       [4295. ,   14.9],\n",
              "       [3520. ,   16.4],\n",
              "       [3425. ,   16.9],\n",
              "       [3630. ,   17.7],\n",
              "       [3525. ,   19. ],\n",
              "       [4220. ,   11.1],\n",
              "       [4165. ,   11.4],\n",
              "       [4325. ,   12.2],\n",
              "       [4335. ,   14.5],\n",
              "       [1940. ,   14.5],\n",
              "       [2740. ,   16. ],\n",
              "       [2265. ,   18.2],\n",
              "       [2755. ,   15.8],\n",
              "       [2051. ,   17. ],\n",
              "       [2075. ,   15.9],\n",
              "       [1985. ,   16.4],\n",
              "       [2190. ,   14.1],\n",
              "       [2815. ,   14.5],\n",
              "       [2600. ,   12.8],\n",
              "       [2720. ,   13.5],\n",
              "       [1985. ,   21.5],\n",
              "       [1800. ,   14.4],\n",
              "       [1985. ,   19.4],\n",
              "       [2070. ,   18.6],\n",
              "       [1800. ,   16.4],\n",
              "       [3365. ,   15.5],\n",
              "       [3735. ,   13.2],\n",
              "       [3570. ,   12.8],\n",
              "       [3535. ,   19.2],\n",
              "       [3155. ,   18.2],\n",
              "       [2965. ,   15.8],\n",
              "       [2720. ,   15.4],\n",
              "       [3430. ,   17.2],\n",
              "       [3210. ,   17.2],\n",
              "       [3380. ,   15.8],\n",
              "       [3070. ,   16.7],\n",
              "       [3620. ,   18.7],\n",
              "       [3410. ,   15.1],\n",
              "       [3425. ,   13.2],\n",
              "       [3445. ,   13.4],\n",
              "       [3205. ,   11.2],\n",
              "       [4080. ,   13.7],\n",
              "       [2155. ,   16.5],\n",
              "       [2560. ,   14.2],\n",
              "       [2300. ,   14.7],\n",
              "       [2230. ,   14.5],\n",
              "       [2515. ,   14.8],\n",
              "       [2745. ,   16.7],\n",
              "       [2855. ,   17.6],\n",
              "       [2405. ,   14.9],\n",
              "       [2830. ,   15.9],\n",
              "       [3140. ,   13.6],\n",
              "       [2795. ,   15.7],\n",
              "       [3410. ,   15.8],\n",
              "       [1990. ,   14.9],\n",
              "       [2135. ,   16.6],\n",
              "       [3245. ,   15.4],\n",
              "       [2990. ,   18.2],\n",
              "       [2890. ,   17.3],\n",
              "       [3265. ,   18.2],\n",
              "       [3360. ,   16.6],\n",
              "       [3840. ,   15.4],\n",
              "       [3725. ,   13.4],\n",
              "       [3955. ,   13.2],\n",
              "       [3830. ,   15.2],\n",
              "       [4360. ,   14.9],\n",
              "       [4054. ,   14.3],\n",
              "       [3605. ,   15. ],\n",
              "       [3940. ,   13. ],\n",
              "       [1925. ,   14. ],\n",
              "       [1975. ,   15.2],\n",
              "       [1915. ,   14.4],\n",
              "       [2670. ,   15. ],\n",
              "       [3530. ,   20.1],\n",
              "       [3900. ,   17.4],\n",
              "       [3190. ,   24.8],\n",
              "       [3420. ,   22.2],\n",
              "       [2200. ,   13.2],\n",
              "       [2150. ,   14.9],\n",
              "       [2020. ,   19.2],\n",
              "       [2130. ,   14.7],\n",
              "       [2670. ,   16. ],\n",
              "       [2595. ,   11.3],\n",
              "       [2700. ,   12.9],\n",
              "       [2556. ,   13.2],\n",
              "       [2144. ,   14.7],\n",
              "       [1968. ,   18.8],\n",
              "       [2120. ,   15.5],\n",
              "       [2019. ,   16.4],\n",
              "       [2678. ,   16.5],\n",
              "       [2870. ,   18.1],\n",
              "       [3003. ,   20.1],\n",
              "       [3381. ,   18.7],\n",
              "       [2188. ,   15.8],\n",
              "       [2711. ,   15.5],\n",
              "       [2542. ,   17.5],\n",
              "       [2434. ,   15. ],\n",
              "       [2265. ,   15.2],\n",
              "       [2110. ,   17.9],\n",
              "       [2800. ,   14.4],\n",
              "       [2110. ,   19.2],\n",
              "       [2085. ,   21.7],\n",
              "       [2335. ,   23.7],\n",
              "       [2950. ,   19.9],\n",
              "       [3250. ,   21.8],\n",
              "       [1850. ,   13.8],\n",
              "       [1835. ,   17.3],\n",
              "       [2145. ,   18. ],\n",
              "       [1845. ,   15.3],\n",
              "       [2910. ,   11.4],\n",
              "       [2420. ,   12.5],\n",
              "       [2500. ,   15.1],\n",
              "       [2905. ,   14.3],\n",
              "       [2290. ,   17. ],\n",
              "       [2490. ,   15.7],\n",
              "       [2635. ,   16.4],\n",
              "       [2620. ,   14.4],\n",
              "       [2725. ,   12.6],\n",
              "       [2385. ,   12.9],\n",
              "       [1755. ,   16.9],\n",
              "       [1875. ,   16.4],\n",
              "       [1760. ,   16.1],\n",
              "       [2065. ,   17.8],\n",
              "       [1975. ,   19.4],\n",
              "       [2050. ,   17.3],\n",
              "       [1985. ,   16. ],\n",
              "       [2215. ,   14.9],\n",
              "       [2045. ,   16.2],\n",
              "       [2380. ,   20.7],\n",
              "       [2190. ,   14.2],\n",
              "       [2320. ,   15.8],\n",
              "       [2210. ,   14.4],\n",
              "       [2350. ,   16.8],\n",
              "       [2615. ,   14.8],\n",
              "       [2635. ,   18.3],\n",
              "       [3230. ,   20.4],\n",
              "       [3160. ,   19.6],\n",
              "       [2900. ,   12.6],\n",
              "       [2930. ,   13.8],\n",
              "       [3415. ,   15.8],\n",
              "       [3725. ,   19. ],\n",
              "       [3060. ,   17.1],\n",
              "       [3465. ,   16.6],\n",
              "       [2605. ,   19.6],\n",
              "       [2640. ,   18.6],\n",
              "       [2395. ,   18. ],\n",
              "       [2575. ,   16.2],\n",
              "       [2525. ,   16. ],\n",
              "       [2735. ,   18. ],\n",
              "       [2865. ,   16.4],\n",
              "       [3035. ,   20.5],\n",
              "       [1980. ,   15.3],\n",
              "       [2025. ,   18.2],\n",
              "       [1970. ,   17.6],\n",
              "       [2125. ,   14.7],\n",
              "       [2125. ,   17.3],\n",
              "       [2160. ,   14.5],\n",
              "       [2205. ,   14.5],\n",
              "       [2245. ,   16.9],\n",
              "       [1965. ,   15. ],\n",
              "       [1965. ,   15.7],\n",
              "       [1995. ,   16.2],\n",
              "       [2945. ,   16.4],\n",
              "       [3015. ,   17. ],\n",
              "       [2585. ,   14.5],\n",
              "       [2835. ,   14.7],\n",
              "       [2665. ,   13.9],\n",
              "       [2370. ,   13. ],\n",
              "       [2950. ,   17.3],\n",
              "       [2790. ,   15.6],\n",
              "       [2130. ,   24.6],\n",
              "       [2295. ,   11.6],\n",
              "       [2625. ,   18.6],\n",
              "       [2720. ,   19.4]])"
            ]
          },
          "metadata": {},
          "execution_count": 177
        }
      ]
    },
    {
      "cell_type": "code",
      "source": [
        "y = df.iloc[:,7].values\n",
        "y"
      ],
      "metadata": {
        "colab": {
          "base_uri": "https://localhost:8080/"
        },
        "id": "MjGqE1dHvx1z",
        "outputId": "bb4858d7-8215-435e-8f09-a9b3678ff518"
      },
      "execution_count": null,
      "outputs": [
        {
          "output_type": "execute_result",
          "data": {
            "text/plain": [
              "array([1, 1, 1, 1, 1, 1, 1, 1, 1, 1, 1, 1, 1, 1, 3, 1, 1, 1, 3, 2, 2, 2,\n",
              "       2, 2, 1, 1, 1, 1, 1, 3, 1, 3, 1, 1, 1, 1, 1, 1, 1, 1, 1, 1, 1, 1,\n",
              "       1, 1, 1, 1, 1, 1, 2, 2, 2, 3, 3, 2, 1, 3, 1, 2, 1, 1, 1, 1, 1, 1,\n",
              "       1, 1, 1, 1, 1, 3, 1, 1, 1, 1, 2, 2, 2, 2, 1, 3, 3, 1, 3, 1, 1, 1,\n",
              "       1, 1, 1, 1, 1, 1, 1, 1, 1, 1, 1, 1, 1, 1, 2, 1, 1, 1, 1, 1, 3, 1,\n",
              "       3, 3, 1, 1, 2, 1, 1, 2, 2, 2, 2, 1, 2, 3, 1, 1, 1, 1, 1, 3, 1, 3,\n",
              "       1, 1, 1, 1, 1, 1, 1, 1, 1, 2, 2, 2, 3, 3, 1, 2, 2, 3, 3, 2, 1, 1,\n",
              "       1, 1, 1, 1, 1, 1, 1, 1, 1, 1, 1, 1, 1, 3, 1, 1, 1, 3, 2, 3, 1, 2,\n",
              "       1, 2, 2, 2, 2, 3, 2, 2, 1, 1, 2, 1, 1, 1, 1, 1, 1, 1, 1, 1, 1, 2,\n",
              "       3, 1, 1, 1, 1, 2, 3, 3, 1, 2, 1, 2, 3, 2, 1, 1, 1, 1, 3, 1, 2, 1,\n",
              "       3, 1, 1, 1, 1, 1, 1, 1, 1, 1, 1, 1, 1, 2, 1, 3, 1, 1, 1, 3, 2, 3,\n",
              "       2, 3, 2, 1, 3, 3, 3, 1, 1, 1, 1, 1, 1, 1, 1, 1, 1, 1, 1, 1, 1, 1,\n",
              "       1, 1, 1, 3, 3, 1, 3, 1, 1, 3, 2, 2, 2, 2, 2, 3, 1, 1, 1, 1, 1, 1,\n",
              "       1, 1, 1, 1, 1, 1, 1, 2, 3, 1, 1, 2, 1, 2, 1, 1, 1, 3, 2, 1, 1, 1,\n",
              "       1, 2, 3, 1, 3, 1, 1, 1, 1, 2, 3, 3, 3, 3, 3, 1, 3, 2, 2, 2, 2, 3,\n",
              "       2, 3, 2, 3, 3, 2, 1, 3, 1, 1, 1, 1, 1, 3, 1, 3, 3, 3, 3, 3, 1, 1,\n",
              "       1, 2, 2, 3, 3, 3, 3, 2, 2, 3, 3, 1, 1, 1, 1, 1, 1, 1, 1, 1, 1, 1,\n",
              "       1, 2, 3, 3, 1, 1, 3, 3, 3, 3, 3, 3, 1, 1, 1, 1, 3, 1, 1, 1, 2, 1,\n",
              "       1, 1])"
            ]
          },
          "metadata": {},
          "execution_count": 178
        }
      ]
    },
    {
      "cell_type": "code",
      "source": [
        "#5.Train_test_split/train and test variables\n",
        "from sklearn.model_selection import train_test_split\n",
        "x_train,x_test,y_train,y_test = train_test_split(x,y,random_state = 0)"
      ],
      "metadata": {
        "id": "ziFvcOGOxQo4"
      },
      "execution_count": null,
      "outputs": []
    },
    {
      "cell_type": "code",
      "source": [
        "print(x.shape)\n",
        "print(x_train.shape) \n",
        "print(x_test.shape) "
      ],
      "metadata": {
        "colab": {
          "base_uri": "https://localhost:8080/"
        },
        "id": "zQukzahoxf8J",
        "outputId": "df10b27f-2c58-40cb-cd8b-3700b7e94568"
      },
      "execution_count": null,
      "outputs": [
        {
          "output_type": "stream",
          "name": "stdout",
          "text": [
            "(398, 2)\n",
            "(298, 2)\n",
            "(100, 2)\n"
          ]
        }
      ]
    },
    {
      "cell_type": "code",
      "source": [
        "print(y.shape)\n",
        "print(y_train.shape) #- 75%\n",
        "print(y_test.shape) #- 25%"
      ],
      "metadata": {
        "colab": {
          "base_uri": "https://localhost:8080/"
        },
        "id": "GXni6TW0xkCz",
        "outputId": "42454cda-828a-4a44-b0e2-241adebbd75f"
      },
      "execution_count": null,
      "outputs": [
        {
          "output_type": "stream",
          "name": "stdout",
          "text": [
            "(398,)\n",
            "(298,)\n",
            "(100,)\n"
          ]
        }
      ]
    },
    {
      "cell_type": "code",
      "source": [
        "#AFTER NORMALISATION AND SCALING\n",
        "from sklearn.preprocessing import MinMaxScaler\n",
        "scaler = MinMaxScaler()\n",
        "x_train = scaler.fit_transform(x_train)\n",
        "x_test = scaler.fit_transform(x_test)\n",
        "\n"
      ],
      "metadata": {
        "id": "4zyQxxcFxz1Z"
      },
      "execution_count": null,
      "outputs": []
    },
    {
      "cell_type": "code",
      "source": [
        "#7.Apply Classifier, Regressor\n",
        "from sklearn.linear_model import LogisticRegression\n",
        "model = LogisticRegression()"
      ],
      "metadata": {
        "id": "gVWtPeFcyHfT"
      },
      "execution_count": null,
      "outputs": []
    },
    {
      "cell_type": "code",
      "source": [
        "#8.Fitting the model\n",
        "model.fit(x_train,y_train)"
      ],
      "metadata": {
        "colab": {
          "base_uri": "https://localhost:8080/"
        },
        "id": "yFoBLraSyPbu",
        "outputId": "cf7a0ad2-49a6-43ec-ac92-d63e3bc718ba"
      },
      "execution_count": null,
      "outputs": [
        {
          "output_type": "execute_result",
          "data": {
            "text/plain": [
              "LogisticRegression()"
            ]
          },
          "metadata": {},
          "execution_count": 184
        }
      ]
    },
    {
      "cell_type": "code",
      "source": [
        "#9.Predict the output\n",
        "y_pred = model.predict(x_test)\n",
        "y_pred #PREDCITED VALUES"
      ],
      "metadata": {
        "colab": {
          "base_uri": "https://localhost:8080/"
        },
        "id": "vdqhVjGJyVOB",
        "outputId": "20333bd1-7835-467f-ddbe-715a6d76d28c"
      },
      "execution_count": null,
      "outputs": [
        {
          "output_type": "execute_result",
          "data": {
            "text/plain": [
              "array([1, 1, 1, 1, 1, 3, 3, 1, 1, 1, 3, 3, 1, 1, 1, 3, 1, 1, 1, 1, 1, 1,\n",
              "       1, 1, 1, 1, 3, 1, 1, 1, 1, 1, 1, 3, 1, 1, 1, 1, 3, 1, 1, 1, 1, 1,\n",
              "       1, 1, 1, 1, 1, 3, 1, 1, 1, 1, 1, 1, 1, 1, 1, 1, 1, 1, 1, 1, 1, 1,\n",
              "       1, 1, 1, 1, 3, 1, 1, 1, 1, 1, 1, 3, 1, 1, 1, 3, 1, 3, 1, 1, 1, 1,\n",
              "       1, 1, 3, 1, 1, 3, 1, 1, 1, 1, 1, 1])"
            ]
          },
          "metadata": {},
          "execution_count": 185
        }
      ]
    },
    {
      "cell_type": "code",
      "source": [
        "y_test"
      ],
      "metadata": {
        "colab": {
          "base_uri": "https://localhost:8080/"
        },
        "id": "ulxu70XEyZzK",
        "outputId": "cf65ffd6-a160-4f7e-8fed-da2d60158a28"
      },
      "execution_count": null,
      "outputs": [
        {
          "output_type": "execute_result",
          "data": {
            "text/plain": [
              "array([1, 1, 1, 2, 1, 3, 3, 1, 1, 1, 2, 3, 1, 2, 1, 1, 1, 1, 1, 2, 1, 1,\n",
              "       3, 2, 1, 3, 1, 1, 1, 1, 1, 3, 1, 3, 1, 3, 1, 1, 2, 1, 1, 1, 1, 3,\n",
              "       3, 2, 1, 1, 1, 2, 2, 2, 1, 2, 1, 1, 1, 1, 1, 1, 1, 1, 1, 1, 1, 1,\n",
              "       1, 1, 1, 1, 3, 1, 2, 1, 3, 1, 3, 3, 1, 1, 1, 2, 2, 2, 3, 3, 1, 1,\n",
              "       2, 1, 1, 1, 3, 3, 2, 1, 1, 1, 1, 1])"
            ]
          },
          "metadata": {},
          "execution_count": 186
        }
      ]
    },
    {
      "cell_type": "code",
      "source": [
        "#Accuracy\n",
        "from sklearn.metrics import accuracy_score\n",
        "accuracy_score(y_pred,y_test)* 100"
      ],
      "metadata": {
        "colab": {
          "base_uri": "https://localhost:8080/"
        },
        "id": "niq3HuMNyhv0",
        "outputId": "8c4863cb-4d51-414a-e17a-85836314d2c5"
      },
      "execution_count": null,
      "outputs": [
        {
          "output_type": "execute_result",
          "data": {
            "text/plain": [
              "69.0"
            ]
          },
          "metadata": {},
          "execution_count": 187
        }
      ]
    },
    {
      "cell_type": "code",
      "source": [
        "#Individual Prediction\n",
        "a = scaler.transform([[4500,60]])"
      ],
      "metadata": {
        "id": "zwe3j1agynuA"
      },
      "execution_count": null,
      "outputs": []
    },
    {
      "cell_type": "code",
      "source": [
        "\n",
        "model.predict(a)"
      ],
      "metadata": {
        "colab": {
          "base_uri": "https://localhost:8080/"
        },
        "id": "EZ6Zw6NMyuFw",
        "outputId": "2a7b1e15-5c32-4a0f-ee3b-f53694e5dd75"
      },
      "execution_count": null,
      "outputs": [
        {
          "output_type": "execute_result",
          "data": {
            "text/plain": [
              "array([1])"
            ]
          },
          "metadata": {},
          "execution_count": 189
        }
      ]
    },
    {
      "cell_type": "code",
      "source": [
        "a"
      ],
      "metadata": {
        "colab": {
          "base_uri": "https://localhost:8080/"
        },
        "id": "g5yRCIY5y1Gw",
        "outputId": "8a75c544-e608-47ea-824e-6d252d299a23"
      },
      "execution_count": null,
      "outputs": [
        {
          "output_type": "execute_result",
          "data": {
            "text/plain": [
              "array([[0.86463013, 3.1595092 ]])"
            ]
          },
          "metadata": {},
          "execution_count": 190
        }
      ]
    },
    {
      "cell_type": "code",
      "source": [
        "CONSLUION:\n",
        "  #--> we had taken weight and model year  has input\n",
        "  #--> we had taken origin has output\n",
        "  #--> The had given x as input and y as output\n",
        "  #--> From train_test_split, we get x and y train.shape of 75% \n",
        "  #--> and x and y test.shape of 25% \n",
        "  #--> By fitting the model output is predicted\n",
        "  #--> Before Normalisation or Scaling, accuracy will be low(67)\n",
        "  #--> After Normalisation or Scaling, accuracy will be high (69)\n",
        "  #-->  we also get Individual Prediction\n",
        "  #--> These analysis help us to now about more data\n",
        "  #--> Model depends on nature of data as well as size of the data"
      ],
      "metadata": {
        "id": "UOhVD2owy2Oa"
      },
      "execution_count": null,
      "outputs": []
    },
    {
      "cell_type": "markdown",
      "source": [],
      "metadata": {
        "id": "MJIZEA0TQFdI"
      }
    },
    {
      "cell_type": "code",
      "source": [
        "#Linear Regression\n",
        "#NEW MODEL - Multiple Linear Regression/Multi Linear Regression/ Multivariate\n",
        "\n"
      ],
      "metadata": {
        "id": "crRiepu51kpP"
      },
      "execution_count": null,
      "outputs": []
    },
    {
      "cell_type": "code",
      "source": [
        "#Take a dataset and create data frame\n",
        "#dataset - https://raw.githubusercontent.com/thejaswini82/DATASETS/main/titanic.csv"
      ],
      "metadata": {
        "id": "yi7snfVX2cDb"
      },
      "execution_count": null,
      "outputs": []
    },
    {
      "cell_type": "code",
      "source": [
        "import pandas as pd\n",
        "df = pd.read_csv('https://raw.githubusercontent.com/thejaswini82/DATASETS/main/titanic.csv')\n",
        "df"
      ],
      "metadata": {
        "colab": {
          "base_uri": "https://localhost:8080/",
          "height": 424
        },
        "id": "M-tSYobT11fF",
        "outputId": "fbc42548-38b2-4b8d-ed4f-8bd16fe23bcf"
      },
      "execution_count": null,
      "outputs": [
        {
          "output_type": "execute_result",
          "data": {
            "text/plain": [
              "     PassengerId   Age     Fare  Survived\n",
              "0              1  22.0   7.2500         0\n",
              "1              2  38.0  71.2833         1\n",
              "2              3  26.0   7.9250         1\n",
              "3              4  35.0  53.1000         1\n",
              "4              5  35.0   8.0500         0\n",
              "..           ...   ...      ...       ...\n",
              "709          886  39.0  29.1250         0\n",
              "710          887  27.0  13.0000         0\n",
              "711          888  19.0  30.0000         1\n",
              "712          890  26.0  30.0000         1\n",
              "713          891  32.0   7.7500         0\n",
              "\n",
              "[714 rows x 4 columns]"
            ],
            "text/html": [
              "\n",
              "  <div id=\"df-b5f071ea-59f4-4b35-aea2-3a0ba001d1b8\">\n",
              "    <div class=\"colab-df-container\">\n",
              "      <div>\n",
              "<style scoped>\n",
              "    .dataframe tbody tr th:only-of-type {\n",
              "        vertical-align: middle;\n",
              "    }\n",
              "\n",
              "    .dataframe tbody tr th {\n",
              "        vertical-align: top;\n",
              "    }\n",
              "\n",
              "    .dataframe thead th {\n",
              "        text-align: right;\n",
              "    }\n",
              "</style>\n",
              "<table border=\"1\" class=\"dataframe\">\n",
              "  <thead>\n",
              "    <tr style=\"text-align: right;\">\n",
              "      <th></th>\n",
              "      <th>PassengerId</th>\n",
              "      <th>Age</th>\n",
              "      <th>Fare</th>\n",
              "      <th>Survived</th>\n",
              "    </tr>\n",
              "  </thead>\n",
              "  <tbody>\n",
              "    <tr>\n",
              "      <th>0</th>\n",
              "      <td>1</td>\n",
              "      <td>22.0</td>\n",
              "      <td>7.2500</td>\n",
              "      <td>0</td>\n",
              "    </tr>\n",
              "    <tr>\n",
              "      <th>1</th>\n",
              "      <td>2</td>\n",
              "      <td>38.0</td>\n",
              "      <td>71.2833</td>\n",
              "      <td>1</td>\n",
              "    </tr>\n",
              "    <tr>\n",
              "      <th>2</th>\n",
              "      <td>3</td>\n",
              "      <td>26.0</td>\n",
              "      <td>7.9250</td>\n",
              "      <td>1</td>\n",
              "    </tr>\n",
              "    <tr>\n",
              "      <th>3</th>\n",
              "      <td>4</td>\n",
              "      <td>35.0</td>\n",
              "      <td>53.1000</td>\n",
              "      <td>1</td>\n",
              "    </tr>\n",
              "    <tr>\n",
              "      <th>4</th>\n",
              "      <td>5</td>\n",
              "      <td>35.0</td>\n",
              "      <td>8.0500</td>\n",
              "      <td>0</td>\n",
              "    </tr>\n",
              "    <tr>\n",
              "      <th>...</th>\n",
              "      <td>...</td>\n",
              "      <td>...</td>\n",
              "      <td>...</td>\n",
              "      <td>...</td>\n",
              "    </tr>\n",
              "    <tr>\n",
              "      <th>709</th>\n",
              "      <td>886</td>\n",
              "      <td>39.0</td>\n",
              "      <td>29.1250</td>\n",
              "      <td>0</td>\n",
              "    </tr>\n",
              "    <tr>\n",
              "      <th>710</th>\n",
              "      <td>887</td>\n",
              "      <td>27.0</td>\n",
              "      <td>13.0000</td>\n",
              "      <td>0</td>\n",
              "    </tr>\n",
              "    <tr>\n",
              "      <th>711</th>\n",
              "      <td>888</td>\n",
              "      <td>19.0</td>\n",
              "      <td>30.0000</td>\n",
              "      <td>1</td>\n",
              "    </tr>\n",
              "    <tr>\n",
              "      <th>712</th>\n",
              "      <td>890</td>\n",
              "      <td>26.0</td>\n",
              "      <td>30.0000</td>\n",
              "      <td>1</td>\n",
              "    </tr>\n",
              "    <tr>\n",
              "      <th>713</th>\n",
              "      <td>891</td>\n",
              "      <td>32.0</td>\n",
              "      <td>7.7500</td>\n",
              "      <td>0</td>\n",
              "    </tr>\n",
              "  </tbody>\n",
              "</table>\n",
              "<p>714 rows × 4 columns</p>\n",
              "</div>\n",
              "      <button class=\"colab-df-convert\" onclick=\"convertToInteractive('df-b5f071ea-59f4-4b35-aea2-3a0ba001d1b8')\"\n",
              "              title=\"Convert this dataframe to an interactive table.\"\n",
              "              style=\"display:none;\">\n",
              "        \n",
              "  <svg xmlns=\"http://www.w3.org/2000/svg\" height=\"24px\"viewBox=\"0 0 24 24\"\n",
              "       width=\"24px\">\n",
              "    <path d=\"M0 0h24v24H0V0z\" fill=\"none\"/>\n",
              "    <path d=\"M18.56 5.44l.94 2.06.94-2.06 2.06-.94-2.06-.94-.94-2.06-.94 2.06-2.06.94zm-11 1L8.5 8.5l.94-2.06 2.06-.94-2.06-.94L8.5 2.5l-.94 2.06-2.06.94zm10 10l.94 2.06.94-2.06 2.06-.94-2.06-.94-.94-2.06-.94 2.06-2.06.94z\"/><path d=\"M17.41 7.96l-1.37-1.37c-.4-.4-.92-.59-1.43-.59-.52 0-1.04.2-1.43.59L10.3 9.45l-7.72 7.72c-.78.78-.78 2.05 0 2.83L4 21.41c.39.39.9.59 1.41.59.51 0 1.02-.2 1.41-.59l7.78-7.78 2.81-2.81c.8-.78.8-2.07 0-2.86zM5.41 20L4 18.59l7.72-7.72 1.47 1.35L5.41 20z\"/>\n",
              "  </svg>\n",
              "      </button>\n",
              "      \n",
              "  <style>\n",
              "    .colab-df-container {\n",
              "      display:flex;\n",
              "      flex-wrap:wrap;\n",
              "      gap: 12px;\n",
              "    }\n",
              "\n",
              "    .colab-df-convert {\n",
              "      background-color: #E8F0FE;\n",
              "      border: none;\n",
              "      border-radius: 50%;\n",
              "      cursor: pointer;\n",
              "      display: none;\n",
              "      fill: #1967D2;\n",
              "      height: 32px;\n",
              "      padding: 0 0 0 0;\n",
              "      width: 32px;\n",
              "    }\n",
              "\n",
              "    .colab-df-convert:hover {\n",
              "      background-color: #E2EBFA;\n",
              "      box-shadow: 0px 1px 2px rgba(60, 64, 67, 0.3), 0px 1px 3px 1px rgba(60, 64, 67, 0.15);\n",
              "      fill: #174EA6;\n",
              "    }\n",
              "\n",
              "    [theme=dark] .colab-df-convert {\n",
              "      background-color: #3B4455;\n",
              "      fill: #D2E3FC;\n",
              "    }\n",
              "\n",
              "    [theme=dark] .colab-df-convert:hover {\n",
              "      background-color: #434B5C;\n",
              "      box-shadow: 0px 1px 3px 1px rgba(0, 0, 0, 0.15);\n",
              "      filter: drop-shadow(0px 1px 2px rgba(0, 0, 0, 0.3));\n",
              "      fill: #FFFFFF;\n",
              "    }\n",
              "  </style>\n",
              "\n",
              "      <script>\n",
              "        const buttonEl =\n",
              "          document.querySelector('#df-b5f071ea-59f4-4b35-aea2-3a0ba001d1b8 button.colab-df-convert');\n",
              "        buttonEl.style.display =\n",
              "          google.colab.kernel.accessAllowed ? 'block' : 'none';\n",
              "\n",
              "        async function convertToInteractive(key) {\n",
              "          const element = document.querySelector('#df-b5f071ea-59f4-4b35-aea2-3a0ba001d1b8');\n",
              "          const dataTable =\n",
              "            await google.colab.kernel.invokeFunction('convertToInteractive',\n",
              "                                                     [key], {});\n",
              "          if (!dataTable) return;\n",
              "\n",
              "          const docLinkHtml = 'Like what you see? Visit the ' +\n",
              "            '<a target=\"_blank\" href=https://colab.research.google.com/notebooks/data_table.ipynb>data table notebook</a>'\n",
              "            + ' to learn more about interactive tables.';\n",
              "          element.innerHTML = '';\n",
              "          dataTable['output_type'] = 'display_data';\n",
              "          await google.colab.output.renderOutput(dataTable, element);\n",
              "          const docLink = document.createElement('div');\n",
              "          docLink.innerHTML = docLinkHtml;\n",
              "          element.appendChild(docLink);\n",
              "        }\n",
              "      </script>\n",
              "    </div>\n",
              "  </div>\n",
              "  "
            ]
          },
          "metadata": {},
          "execution_count": 3
        }
      ]
    },
    {
      "cell_type": "code",
      "source": [
        "df.shape"
      ],
      "metadata": {
        "colab": {
          "base_uri": "https://localhost:8080/"
        },
        "id": "7hKM7XE82Mdx",
        "outputId": "434d569c-1956-4c48-c61c-c97cd6724a97"
      },
      "execution_count": null,
      "outputs": [
        {
          "output_type": "execute_result",
          "data": {
            "text/plain": [
              "(714, 4)"
            ]
          },
          "metadata": {},
          "execution_count": 4
        }
      ]
    },
    {
      "cell_type": "code",
      "source": [
        "df.size"
      ],
      "metadata": {
        "colab": {
          "base_uri": "https://localhost:8080/"
        },
        "id": "NphL9_4M2EXF",
        "outputId": "36505fea-b11b-4d66-d4ee-41da2b8fba52"
      },
      "execution_count": null,
      "outputs": [
        {
          "output_type": "execute_result",
          "data": {
            "text/plain": [
              "2856"
            ]
          },
          "metadata": {},
          "execution_count": 5
        }
      ]
    },
    {
      "cell_type": "code",
      "source": [
        "df.info()"
      ],
      "metadata": {
        "colab": {
          "base_uri": "https://localhost:8080/"
        },
        "id": "fdNGnn2b23BE",
        "outputId": "45d6d8a2-3a43-480b-a423-ec173c3bbdff"
      },
      "execution_count": null,
      "outputs": [
        {
          "output_type": "stream",
          "name": "stdout",
          "text": [
            "<class 'pandas.core.frame.DataFrame'>\n",
            "RangeIndex: 714 entries, 0 to 713\n",
            "Data columns (total 4 columns):\n",
            " #   Column       Non-Null Count  Dtype  \n",
            "---  ------       --------------  -----  \n",
            " 0   PassengerId  714 non-null    int64  \n",
            " 1   Age          714 non-null    float64\n",
            " 2   Fare         714 non-null    float64\n",
            " 3   Survived     714 non-null    int64  \n",
            "dtypes: float64(2), int64(2)\n",
            "memory usage: 22.4 KB\n"
          ]
        }
      ]
    },
    {
      "cell_type": "code",
      "source": [
        "df.head()"
      ],
      "metadata": {
        "colab": {
          "base_uri": "https://localhost:8080/",
          "height": 206
        },
        "id": "DXPSqKUR25_L",
        "outputId": "774ed3d2-b6be-4a61-d61a-f779640f9291"
      },
      "execution_count": null,
      "outputs": [
        {
          "output_type": "execute_result",
          "data": {
            "text/plain": [
              "   PassengerId   Age     Fare  Survived\n",
              "0            1  22.0   7.2500         0\n",
              "1            2  38.0  71.2833         1\n",
              "2            3  26.0   7.9250         1\n",
              "3            4  35.0  53.1000         1\n",
              "4            5  35.0   8.0500         0"
            ],
            "text/html": [
              "\n",
              "  <div id=\"df-63fba12c-dd5b-4668-8745-c0a796b5b8f6\">\n",
              "    <div class=\"colab-df-container\">\n",
              "      <div>\n",
              "<style scoped>\n",
              "    .dataframe tbody tr th:only-of-type {\n",
              "        vertical-align: middle;\n",
              "    }\n",
              "\n",
              "    .dataframe tbody tr th {\n",
              "        vertical-align: top;\n",
              "    }\n",
              "\n",
              "    .dataframe thead th {\n",
              "        text-align: right;\n",
              "    }\n",
              "</style>\n",
              "<table border=\"1\" class=\"dataframe\">\n",
              "  <thead>\n",
              "    <tr style=\"text-align: right;\">\n",
              "      <th></th>\n",
              "      <th>PassengerId</th>\n",
              "      <th>Age</th>\n",
              "      <th>Fare</th>\n",
              "      <th>Survived</th>\n",
              "    </tr>\n",
              "  </thead>\n",
              "  <tbody>\n",
              "    <tr>\n",
              "      <th>0</th>\n",
              "      <td>1</td>\n",
              "      <td>22.0</td>\n",
              "      <td>7.2500</td>\n",
              "      <td>0</td>\n",
              "    </tr>\n",
              "    <tr>\n",
              "      <th>1</th>\n",
              "      <td>2</td>\n",
              "      <td>38.0</td>\n",
              "      <td>71.2833</td>\n",
              "      <td>1</td>\n",
              "    </tr>\n",
              "    <tr>\n",
              "      <th>2</th>\n",
              "      <td>3</td>\n",
              "      <td>26.0</td>\n",
              "      <td>7.9250</td>\n",
              "      <td>1</td>\n",
              "    </tr>\n",
              "    <tr>\n",
              "      <th>3</th>\n",
              "      <td>4</td>\n",
              "      <td>35.0</td>\n",
              "      <td>53.1000</td>\n",
              "      <td>1</td>\n",
              "    </tr>\n",
              "    <tr>\n",
              "      <th>4</th>\n",
              "      <td>5</td>\n",
              "      <td>35.0</td>\n",
              "      <td>8.0500</td>\n",
              "      <td>0</td>\n",
              "    </tr>\n",
              "  </tbody>\n",
              "</table>\n",
              "</div>\n",
              "      <button class=\"colab-df-convert\" onclick=\"convertToInteractive('df-63fba12c-dd5b-4668-8745-c0a796b5b8f6')\"\n",
              "              title=\"Convert this dataframe to an interactive table.\"\n",
              "              style=\"display:none;\">\n",
              "        \n",
              "  <svg xmlns=\"http://www.w3.org/2000/svg\" height=\"24px\"viewBox=\"0 0 24 24\"\n",
              "       width=\"24px\">\n",
              "    <path d=\"M0 0h24v24H0V0z\" fill=\"none\"/>\n",
              "    <path d=\"M18.56 5.44l.94 2.06.94-2.06 2.06-.94-2.06-.94-.94-2.06-.94 2.06-2.06.94zm-11 1L8.5 8.5l.94-2.06 2.06-.94-2.06-.94L8.5 2.5l-.94 2.06-2.06.94zm10 10l.94 2.06.94-2.06 2.06-.94-2.06-.94-.94-2.06-.94 2.06-2.06.94z\"/><path d=\"M17.41 7.96l-1.37-1.37c-.4-.4-.92-.59-1.43-.59-.52 0-1.04.2-1.43.59L10.3 9.45l-7.72 7.72c-.78.78-.78 2.05 0 2.83L4 21.41c.39.39.9.59 1.41.59.51 0 1.02-.2 1.41-.59l7.78-7.78 2.81-2.81c.8-.78.8-2.07 0-2.86zM5.41 20L4 18.59l7.72-7.72 1.47 1.35L5.41 20z\"/>\n",
              "  </svg>\n",
              "      </button>\n",
              "      \n",
              "  <style>\n",
              "    .colab-df-container {\n",
              "      display:flex;\n",
              "      flex-wrap:wrap;\n",
              "      gap: 12px;\n",
              "    }\n",
              "\n",
              "    .colab-df-convert {\n",
              "      background-color: #E8F0FE;\n",
              "      border: none;\n",
              "      border-radius: 50%;\n",
              "      cursor: pointer;\n",
              "      display: none;\n",
              "      fill: #1967D2;\n",
              "      height: 32px;\n",
              "      padding: 0 0 0 0;\n",
              "      width: 32px;\n",
              "    }\n",
              "\n",
              "    .colab-df-convert:hover {\n",
              "      background-color: #E2EBFA;\n",
              "      box-shadow: 0px 1px 2px rgba(60, 64, 67, 0.3), 0px 1px 3px 1px rgba(60, 64, 67, 0.15);\n",
              "      fill: #174EA6;\n",
              "    }\n",
              "\n",
              "    [theme=dark] .colab-df-convert {\n",
              "      background-color: #3B4455;\n",
              "      fill: #D2E3FC;\n",
              "    }\n",
              "\n",
              "    [theme=dark] .colab-df-convert:hover {\n",
              "      background-color: #434B5C;\n",
              "      box-shadow: 0px 1px 3px 1px rgba(0, 0, 0, 0.15);\n",
              "      filter: drop-shadow(0px 1px 2px rgba(0, 0, 0, 0.3));\n",
              "      fill: #FFFFFF;\n",
              "    }\n",
              "  </style>\n",
              "\n",
              "      <script>\n",
              "        const buttonEl =\n",
              "          document.querySelector('#df-63fba12c-dd5b-4668-8745-c0a796b5b8f6 button.colab-df-convert');\n",
              "        buttonEl.style.display =\n",
              "          google.colab.kernel.accessAllowed ? 'block' : 'none';\n",
              "\n",
              "        async function convertToInteractive(key) {\n",
              "          const element = document.querySelector('#df-63fba12c-dd5b-4668-8745-c0a796b5b8f6');\n",
              "          const dataTable =\n",
              "            await google.colab.kernel.invokeFunction('convertToInteractive',\n",
              "                                                     [key], {});\n",
              "          if (!dataTable) return;\n",
              "\n",
              "          const docLinkHtml = 'Like what you see? Visit the ' +\n",
              "            '<a target=\"_blank\" href=https://colab.research.google.com/notebooks/data_table.ipynb>data table notebook</a>'\n",
              "            + ' to learn more about interactive tables.';\n",
              "          element.innerHTML = '';\n",
              "          dataTable['output_type'] = 'display_data';\n",
              "          await google.colab.output.renderOutput(dataTable, element);\n",
              "          const docLink = document.createElement('div');\n",
              "          docLink.innerHTML = docLinkHtml;\n",
              "          element.appendChild(docLink);\n",
              "        }\n",
              "      </script>\n",
              "    </div>\n",
              "  </div>\n",
              "  "
            ]
          },
          "metadata": {},
          "execution_count": 7
        }
      ]
    },
    {
      "cell_type": "code",
      "source": [
        "df.tail()"
      ],
      "metadata": {
        "colab": {
          "base_uri": "https://localhost:8080/",
          "height": 206
        },
        "id": "dUsLoeMk3J_u",
        "outputId": "2dd9c67f-586f-475f-d1be-d076601949d9"
      },
      "execution_count": null,
      "outputs": [
        {
          "output_type": "execute_result",
          "data": {
            "text/plain": [
              "     PassengerId   Age    Fare  Survived\n",
              "709          886  39.0  29.125         0\n",
              "710          887  27.0  13.000         0\n",
              "711          888  19.0  30.000         1\n",
              "712          890  26.0  30.000         1\n",
              "713          891  32.0   7.750         0"
            ],
            "text/html": [
              "\n",
              "  <div id=\"df-bebc79e4-71fd-44c8-999a-7bbd028f966d\">\n",
              "    <div class=\"colab-df-container\">\n",
              "      <div>\n",
              "<style scoped>\n",
              "    .dataframe tbody tr th:only-of-type {\n",
              "        vertical-align: middle;\n",
              "    }\n",
              "\n",
              "    .dataframe tbody tr th {\n",
              "        vertical-align: top;\n",
              "    }\n",
              "\n",
              "    .dataframe thead th {\n",
              "        text-align: right;\n",
              "    }\n",
              "</style>\n",
              "<table border=\"1\" class=\"dataframe\">\n",
              "  <thead>\n",
              "    <tr style=\"text-align: right;\">\n",
              "      <th></th>\n",
              "      <th>PassengerId</th>\n",
              "      <th>Age</th>\n",
              "      <th>Fare</th>\n",
              "      <th>Survived</th>\n",
              "    </tr>\n",
              "  </thead>\n",
              "  <tbody>\n",
              "    <tr>\n",
              "      <th>709</th>\n",
              "      <td>886</td>\n",
              "      <td>39.0</td>\n",
              "      <td>29.125</td>\n",
              "      <td>0</td>\n",
              "    </tr>\n",
              "    <tr>\n",
              "      <th>710</th>\n",
              "      <td>887</td>\n",
              "      <td>27.0</td>\n",
              "      <td>13.000</td>\n",
              "      <td>0</td>\n",
              "    </tr>\n",
              "    <tr>\n",
              "      <th>711</th>\n",
              "      <td>888</td>\n",
              "      <td>19.0</td>\n",
              "      <td>30.000</td>\n",
              "      <td>1</td>\n",
              "    </tr>\n",
              "    <tr>\n",
              "      <th>712</th>\n",
              "      <td>890</td>\n",
              "      <td>26.0</td>\n",
              "      <td>30.000</td>\n",
              "      <td>1</td>\n",
              "    </tr>\n",
              "    <tr>\n",
              "      <th>713</th>\n",
              "      <td>891</td>\n",
              "      <td>32.0</td>\n",
              "      <td>7.750</td>\n",
              "      <td>0</td>\n",
              "    </tr>\n",
              "  </tbody>\n",
              "</table>\n",
              "</div>\n",
              "      <button class=\"colab-df-convert\" onclick=\"convertToInteractive('df-bebc79e4-71fd-44c8-999a-7bbd028f966d')\"\n",
              "              title=\"Convert this dataframe to an interactive table.\"\n",
              "              style=\"display:none;\">\n",
              "        \n",
              "  <svg xmlns=\"http://www.w3.org/2000/svg\" height=\"24px\"viewBox=\"0 0 24 24\"\n",
              "       width=\"24px\">\n",
              "    <path d=\"M0 0h24v24H0V0z\" fill=\"none\"/>\n",
              "    <path d=\"M18.56 5.44l.94 2.06.94-2.06 2.06-.94-2.06-.94-.94-2.06-.94 2.06-2.06.94zm-11 1L8.5 8.5l.94-2.06 2.06-.94-2.06-.94L8.5 2.5l-.94 2.06-2.06.94zm10 10l.94 2.06.94-2.06 2.06-.94-2.06-.94-.94-2.06-.94 2.06-2.06.94z\"/><path d=\"M17.41 7.96l-1.37-1.37c-.4-.4-.92-.59-1.43-.59-.52 0-1.04.2-1.43.59L10.3 9.45l-7.72 7.72c-.78.78-.78 2.05 0 2.83L4 21.41c.39.39.9.59 1.41.59.51 0 1.02-.2 1.41-.59l7.78-7.78 2.81-2.81c.8-.78.8-2.07 0-2.86zM5.41 20L4 18.59l7.72-7.72 1.47 1.35L5.41 20z\"/>\n",
              "  </svg>\n",
              "      </button>\n",
              "      \n",
              "  <style>\n",
              "    .colab-df-container {\n",
              "      display:flex;\n",
              "      flex-wrap:wrap;\n",
              "      gap: 12px;\n",
              "    }\n",
              "\n",
              "    .colab-df-convert {\n",
              "      background-color: #E8F0FE;\n",
              "      border: none;\n",
              "      border-radius: 50%;\n",
              "      cursor: pointer;\n",
              "      display: none;\n",
              "      fill: #1967D2;\n",
              "      height: 32px;\n",
              "      padding: 0 0 0 0;\n",
              "      width: 32px;\n",
              "    }\n",
              "\n",
              "    .colab-df-convert:hover {\n",
              "      background-color: #E2EBFA;\n",
              "      box-shadow: 0px 1px 2px rgba(60, 64, 67, 0.3), 0px 1px 3px 1px rgba(60, 64, 67, 0.15);\n",
              "      fill: #174EA6;\n",
              "    }\n",
              "\n",
              "    [theme=dark] .colab-df-convert {\n",
              "      background-color: #3B4455;\n",
              "      fill: #D2E3FC;\n",
              "    }\n",
              "\n",
              "    [theme=dark] .colab-df-convert:hover {\n",
              "      background-color: #434B5C;\n",
              "      box-shadow: 0px 1px 3px 1px rgba(0, 0, 0, 0.15);\n",
              "      filter: drop-shadow(0px 1px 2px rgba(0, 0, 0, 0.3));\n",
              "      fill: #FFFFFF;\n",
              "    }\n",
              "  </style>\n",
              "\n",
              "      <script>\n",
              "        const buttonEl =\n",
              "          document.querySelector('#df-bebc79e4-71fd-44c8-999a-7bbd028f966d button.colab-df-convert');\n",
              "        buttonEl.style.display =\n",
              "          google.colab.kernel.accessAllowed ? 'block' : 'none';\n",
              "\n",
              "        async function convertToInteractive(key) {\n",
              "          const element = document.querySelector('#df-bebc79e4-71fd-44c8-999a-7bbd028f966d');\n",
              "          const dataTable =\n",
              "            await google.colab.kernel.invokeFunction('convertToInteractive',\n",
              "                                                     [key], {});\n",
              "          if (!dataTable) return;\n",
              "\n",
              "          const docLinkHtml = 'Like what you see? Visit the ' +\n",
              "            '<a target=\"_blank\" href=https://colab.research.google.com/notebooks/data_table.ipynb>data table notebook</a>'\n",
              "            + ' to learn more about interactive tables.';\n",
              "          element.innerHTML = '';\n",
              "          dataTable['output_type'] = 'display_data';\n",
              "          await google.colab.output.renderOutput(dataTable, element);\n",
              "          const docLink = document.createElement('div');\n",
              "          docLink.innerHTML = docLinkHtml;\n",
              "          element.appendChild(docLink);\n",
              "        }\n",
              "      </script>\n",
              "    </div>\n",
              "  </div>\n",
              "  "
            ]
          },
          "metadata": {},
          "execution_count": 8
        }
      ]
    },
    {
      "cell_type": "code",
      "source": [
        "#VISUALISATION\n",
        "import seaborn as sns\n",
        "sns.distplot(df['Survived']) #distribution plot"
      ],
      "metadata": {
        "colab": {
          "base_uri": "https://localhost:8080/",
          "height": 351
        },
        "id": "-ubACE5k3RkF",
        "outputId": "5cc9481d-b054-4132-9be9-64cc937545f0"
      },
      "execution_count": null,
      "outputs": [
        {
          "output_type": "stream",
          "name": "stderr",
          "text": [
            "/usr/local/lib/python3.7/dist-packages/seaborn/distributions.py:2619: FutureWarning: `distplot` is a deprecated function and will be removed in a future version. Please adapt your code to use either `displot` (a figure-level function with similar flexibility) or `histplot` (an axes-level function for histograms).\n",
            "  warnings.warn(msg, FutureWarning)\n"
          ]
        },
        {
          "output_type": "execute_result",
          "data": {
            "text/plain": [
              "<matplotlib.axes._subplots.AxesSubplot at 0x7f9bbd50f410>"
            ]
          },
          "metadata": {},
          "execution_count": 9
        },
        {
          "output_type": "display_data",
          "data": {
            "text/plain": [
              "<Figure size 432x288 with 1 Axes>"
            ],
            "image/png": "[encoded data removed]"
          },
          "metadata": {
            "needs_background": "light"
          }
        }
      ]
    },
    {
      "cell_type": "code",
      "source": [
        "#We want to consider only the numeric data\n",
        "#So we will create a new dataframe with only numeric data\n",
        "df_numeric = df.select_dtypes(include = ['float64','int64'])\n",
        "df_numeric"
      ],
      "metadata": {
        "colab": {
          "base_uri": "https://localhost:8080/",
          "height": 424
        },
        "id": "3Zp1Up9g3YeV",
        "outputId": "0019745f-a510-469b-8fc5-132dac09702b"
      },
      "execution_count": null,
      "outputs": [
        {
          "output_type": "execute_result",
          "data": {
            "text/plain": [
              "     PassengerId   Age     Fare  Survived\n",
              "0              1  22.0   7.2500         0\n",
              "1              2  38.0  71.2833         1\n",
              "2              3  26.0   7.9250         1\n",
              "3              4  35.0  53.1000         1\n",
              "4              5  35.0   8.0500         0\n",
              "..           ...   ...      ...       ...\n",
              "709          886  39.0  29.1250         0\n",
              "710          887  27.0  13.0000         0\n",
              "711          888  19.0  30.0000         1\n",
              "712          890  26.0  30.0000         1\n",
              "713          891  32.0   7.7500         0\n",
              "\n",
              "[714 rows x 4 columns]"
            ],
            "text/html": [
              "\n",
              "  <div id=\"df-b4666cee-ac92-45b6-93ff-1498bf9bd782\">\n",
              "    <div class=\"colab-df-container\">\n",
              "      <div>\n",
              "<style scoped>\n",
              "    .dataframe tbody tr th:only-of-type {\n",
              "        vertical-align: middle;\n",
              "    }\n",
              "\n",
              "    .dataframe tbody tr th {\n",
              "        vertical-align: top;\n",
              "    }\n",
              "\n",
              "    .dataframe thead th {\n",
              "        text-align: right;\n",
              "    }\n",
              "</style>\n",
              "<table border=\"1\" class=\"dataframe\">\n",
              "  <thead>\n",
              "    <tr style=\"text-align: right;\">\n",
              "      <th></th>\n",
              "      <th>PassengerId</th>\n",
              "      <th>Age</th>\n",
              "      <th>Fare</th>\n",
              "      <th>Survived</th>\n",
              "    </tr>\n",
              "  </thead>\n",
              "  <tbody>\n",
              "    <tr>\n",
              "      <th>0</th>\n",
              "      <td>1</td>\n",
              "      <td>22.0</td>\n",
              "      <td>7.2500</td>\n",
              "      <td>0</td>\n",
              "    </tr>\n",
              "    <tr>\n",
              "      <th>1</th>\n",
              "      <td>2</td>\n",
              "      <td>38.0</td>\n",
              "      <td>71.2833</td>\n",
              "      <td>1</td>\n",
              "    </tr>\n",
              "    <tr>\n",
              "      <th>2</th>\n",
              "      <td>3</td>\n",
              "      <td>26.0</td>\n",
              "      <td>7.9250</td>\n",
              "      <td>1</td>\n",
              "    </tr>\n",
              "    <tr>\n",
              "      <th>3</th>\n",
              "      <td>4</td>\n",
              "      <td>35.0</td>\n",
              "      <td>53.1000</td>\n",
              "      <td>1</td>\n",
              "    </tr>\n",
              "    <tr>\n",
              "      <th>4</th>\n",
              "      <td>5</td>\n",
              "      <td>35.0</td>\n",
              "      <td>8.0500</td>\n",
              "      <td>0</td>\n",
              "    </tr>\n",
              "    <tr>\n",
              "      <th>...</th>\n",
              "      <td>...</td>\n",
              "      <td>...</td>\n",
              "      <td>...</td>\n",
              "      <td>...</td>\n",
              "    </tr>\n",
              "    <tr>\n",
              "      <th>709</th>\n",
              "      <td>886</td>\n",
              "      <td>39.0</td>\n",
              "      <td>29.1250</td>\n",
              "      <td>0</td>\n",
              "    </tr>\n",
              "    <tr>\n",
              "      <th>710</th>\n",
              "      <td>887</td>\n",
              "      <td>27.0</td>\n",
              "      <td>13.0000</td>\n",
              "      <td>0</td>\n",
              "    </tr>\n",
              "    <tr>\n",
              "      <th>711</th>\n",
              "      <td>888</td>\n",
              "      <td>19.0</td>\n",
              "      <td>30.0000</td>\n",
              "      <td>1</td>\n",
              "    </tr>\n",
              "    <tr>\n",
              "      <th>712</th>\n",
              "      <td>890</td>\n",
              "      <td>26.0</td>\n",
              "      <td>30.0000</td>\n",
              "      <td>1</td>\n",
              "    </tr>\n",
              "    <tr>\n",
              "      <th>713</th>\n",
              "      <td>891</td>\n",
              "      <td>32.0</td>\n",
              "      <td>7.7500</td>\n",
              "      <td>0</td>\n",
              "    </tr>\n",
              "  </tbody>\n",
              "</table>\n",
              "<p>714 rows × 4 columns</p>\n",
              "</div>\n",
              "      <button class=\"colab-df-convert\" onclick=\"convertToInteractive('df-b4666cee-ac92-45b6-93ff-1498bf9bd782')\"\n",
              "              title=\"Convert this dataframe to an interactive table.\"\n",
              "              style=\"display:none;\">\n",
              "        \n",
              "  <svg xmlns=\"http://www.w3.org/2000/svg\" height=\"24px\"viewBox=\"0 0 24 24\"\n",
              "       width=\"24px\">\n",
              "    <path d=\"M0 0h24v24H0V0z\" fill=\"none\"/>\n",
              "    <path d=\"M18.56 5.44l.94 2.06.94-2.06 2.06-.94-2.06-.94-.94-2.06-.94 2.06-2.06.94zm-11 1L8.5 8.5l.94-2.06 2.06-.94-2.06-.94L8.5 2.5l-.94 2.06-2.06.94zm10 10l.94 2.06.94-2.06 2.06-.94-2.06-.94-.94-2.06-.94 2.06-2.06.94z\"/><path d=\"M17.41 7.96l-1.37-1.37c-.4-.4-.92-.59-1.43-.59-.52 0-1.04.2-1.43.59L10.3 9.45l-7.72 7.72c-.78.78-.78 2.05 0 2.83L4 21.41c.39.39.9.59 1.41.59.51 0 1.02-.2 1.41-.59l7.78-7.78 2.81-2.81c.8-.78.8-2.07 0-2.86zM5.41 20L4 18.59l7.72-7.72 1.47 1.35L5.41 20z\"/>\n",
              "  </svg>\n",
              "      </button>\n",
              "      \n",
              "  <style>\n",
              "    .colab-df-container {\n",
              "      display:flex;\n",
              "      flex-wrap:wrap;\n",
              "      gap: 12px;\n",
              "    }\n",
              "\n",
              "    .colab-df-convert {\n",
              "      background-color: #E8F0FE;\n",
              "      border: none;\n",
              "      border-radius: 50%;\n",
              "      cursor: pointer;\n",
              "      display: none;\n",
              "      fill: #1967D2;\n",
              "      height: 32px;\n",
              "      padding: 0 0 0 0;\n",
              "      width: 32px;\n",
              "    }\n",
              "\n",
              "    .colab-df-convert:hover {\n",
              "      background-color: #E2EBFA;\n",
              "      box-shadow: 0px 1px 2px rgba(60, 64, 67, 0.3), 0px 1px 3px 1px rgba(60, 64, 67, 0.15);\n",
              "      fill: #174EA6;\n",
              "    }\n",
              "\n",
              "    [theme=dark] .colab-df-convert {\n",
              "      background-color: #3B4455;\n",
              "      fill: #D2E3FC;\n",
              "    }\n",
              "\n",
              "    [theme=dark] .colab-df-convert:hover {\n",
              "      background-color: #434B5C;\n",
              "      box-shadow: 0px 1px 3px 1px rgba(0, 0, 0, 0.15);\n",
              "      filter: drop-shadow(0px 1px 2px rgba(0, 0, 0, 0.3));\n",
              "      fill: #FFFFFF;\n",
              "    }\n",
              "  </style>\n",
              "\n",
              "      <script>\n",
              "        const buttonEl =\n",
              "          document.querySelector('#df-b4666cee-ac92-45b6-93ff-1498bf9bd782 button.colab-df-convert');\n",
              "        buttonEl.style.display =\n",
              "          google.colab.kernel.accessAllowed ? 'block' : 'none';\n",
              "\n",
              "        async function convertToInteractive(key) {\n",
              "          const element = document.querySelector('#df-b4666cee-ac92-45b6-93ff-1498bf9bd782');\n",
              "          const dataTable =\n",
              "            await google.colab.kernel.invokeFunction('convertToInteractive',\n",
              "                                                     [key], {});\n",
              "          if (!dataTable) return;\n",
              "\n",
              "          const docLinkHtml = 'Like what you see? Visit the ' +\n",
              "            '<a target=\"_blank\" href=https://colab.research.google.com/notebooks/data_table.ipynb>data table notebook</a>'\n",
              "            + ' to learn more about interactive tables.';\n",
              "          element.innerHTML = '';\n",
              "          dataTable['output_type'] = 'display_data';\n",
              "          await google.colab.output.renderOutput(dataTable, element);\n",
              "          const docLink = document.createElement('div');\n",
              "          docLink.innerHTML = docLinkHtml;\n",
              "          element.appendChild(docLink);\n",
              "        }\n",
              "      </script>\n",
              "    </div>\n",
              "  </div>\n",
              "  "
            ]
          },
          "metadata": {},
          "execution_count": 10
        }
      ]
    },
    {
      "cell_type": "code",
      "source": [
        "#divide the data into i/p and o/p\n",
        "#output - Survived\n",
        "#input - Age and Fare column"
      ],
      "metadata": {
        "id": "gPwZAAiO5Fz8"
      },
      "execution_count": null,
      "outputs": []
    },
    {
      "cell_type": "code",
      "source": [
        "x = df_numeric.iloc[:,1:3].values\n",
        "x"
      ],
      "metadata": {
        "colab": {
          "base_uri": "https://localhost:8080/"
        },
        "id": "sslGfpFA3kfd",
        "outputId": "dff1ef4a-cbba-4a8f-9c20-ea49b534cada"
      },
      "execution_count": null,
      "outputs": [
        {
          "output_type": "execute_result",
          "data": {
            "text/plain": [
              "array([[22.    ,  7.25  ],\n",
              "       [38.    , 71.2833],\n",
              "       [26.    ,  7.925 ],\n",
              "       ...,\n",
              "       [19.    , 30.    ],\n",
              "       [26.    , 30.    ],\n",
              "       [32.    ,  7.75  ]])"
            ]
          },
          "metadata": {},
          "execution_count": 12
        }
      ]
    },
    {
      "cell_type": "code",
      "source": [
        "y = df_numeric.iloc[:,3].values\n",
        "y"
      ],
      "metadata": {
        "colab": {
          "base_uri": "https://localhost:8080/"
        },
        "id": "rNVWpkLh4YfR",
        "outputId": "aa122dbd-d2e9-4df4-cea8-1a1c06114fca"
      },
      "execution_count": null,
      "outputs": [
        {
          "output_type": "execute_result",
          "data": {
            "text/plain": [
              "array([0, 1, 1, 1, 0, 0, 0, 1, 1, 1, 1, 0, 0, 0, 1, 0, 0, 0, 1, 1, 1, 0,\n",
              "       1, 0, 0, 0, 0, 0, 0, 0, 1, 0, 0, 1, 1, 0, 0, 0, 1, 1, 0, 1, 0, 1,\n",
              "       0, 0, 1, 0, 0, 1, 0, 1, 0, 0, 0, 0, 0, 1, 0, 1, 1, 0, 1, 0, 1, 1,\n",
              "       0, 1, 0, 0, 0, 0, 0, 0, 0, 1, 1, 0, 0, 0, 0, 0, 0, 1, 0, 0, 0, 0,\n",
              "       0, 0, 0, 0, 0, 0, 0, 0, 0, 1, 0, 1, 1, 0, 0, 0, 0, 1, 0, 0, 1, 0,\n",
              "       0, 0, 1, 1, 0, 0, 0, 1, 0, 0, 0, 0, 1, 0, 0, 0, 1, 0, 0, 1, 0, 0,\n",
              "       0, 1, 0, 0, 0, 0, 1, 0, 0, 0, 0, 0, 0, 0, 1, 1, 1, 0, 0, 1, 0, 1,\n",
              "       1, 1, 1, 0, 0, 0, 0, 0, 1, 0, 0, 1, 1, 1, 0, 1, 0, 0, 1, 1, 0, 1,\n",
              "       0, 1, 0, 0, 1, 0, 1, 0, 0, 1, 0, 0, 1, 0, 0, 1, 0, 0, 0, 0, 0, 0,\n",
              "       0, 1, 1, 0, 0, 0, 0, 0, 1, 1, 1, 1, 1, 0, 0, 0, 0, 1, 1, 1, 1, 1,\n",
              "       0, 1, 0, 0, 1, 0, 0, 0, 1, 0, 1, 0, 1, 1, 1, 1, 0, 0, 0, 0, 0, 1,\n",
              "       0, 1, 1, 0, 1, 1, 1, 0, 0, 0, 1, 1, 0, 1, 1, 0, 0, 1, 1, 1, 0, 1,\n",
              "       1, 1, 0, 0, 0, 0, 1, 1, 0, 1, 1, 0, 0, 0, 1, 1, 1, 0, 0, 0, 0, 0,\n",
              "       1, 0, 0, 0, 0, 0, 0, 1, 1, 1, 0, 0, 0, 0, 1, 0, 0, 0, 1, 1, 0, 1,\n",
              "       0, 0, 1, 1, 1, 1, 0, 1, 1, 0, 0, 0, 0, 1, 1, 0, 0, 0, 0, 0, 0, 1,\n",
              "       0, 1, 1, 1, 1, 0, 0, 0, 0, 0, 0, 1, 1, 1, 1, 1, 0, 0, 1, 0, 1, 0,\n",
              "       0, 1, 0, 0, 1, 1, 1, 1, 1, 1, 0, 0, 1, 1, 0, 1, 1, 0, 0, 0, 0, 0,\n",
              "       1, 0, 1, 1, 0, 0, 0, 0, 1, 0, 0, 1, 1, 1, 0, 0, 1, 0, 0, 0, 0, 1,\n",
              "       0, 0, 0, 0, 0, 1, 0, 1, 0, 1, 1, 1, 1, 0, 0, 1, 1, 0, 1, 0, 1, 0,\n",
              "       1, 0, 0, 1, 0, 0, 1, 0, 1, 1, 1, 0, 0, 1, 0, 0, 1, 0, 1, 1, 0, 1,\n",
              "       1, 0, 1, 1, 1, 0, 0, 0, 0, 0, 1, 1, 1, 1, 0, 0, 1, 1, 1, 1, 1, 0,\n",
              "       0, 1, 0, 1, 0, 0, 1, 0, 0, 0, 0, 1, 1, 0, 1, 0, 0, 1, 1, 1, 0, 0,\n",
              "       1, 0, 0, 1, 0, 0, 1, 1, 0, 0, 0, 0, 1, 0, 1, 0, 1, 0, 1, 0, 0, 0,\n",
              "       0, 1, 0, 1, 1, 0, 1, 1, 1, 0, 0, 0, 0, 0, 0, 1, 0, 0, 0, 1, 0, 0,\n",
              "       0, 1, 0, 0, 1, 0, 0, 1, 0, 1, 1, 0, 0, 0, 0, 0, 0, 0, 1, 1, 1, 0,\n",
              "       0, 0, 0, 0, 0, 1, 1, 0, 0, 0, 0, 1, 1, 1, 1, 1, 0, 0, 0, 1, 1, 0,\n",
              "       1, 0, 0, 0, 1, 0, 1, 0, 0, 1, 0, 0, 0, 0, 0, 1, 0, 1, 0, 1, 0, 0,\n",
              "       1, 0, 0, 1, 1, 0, 0, 1, 1, 0, 0, 0, 1, 0, 1, 1, 0, 1, 0, 0, 0, 0,\n",
              "       0, 1, 0, 1, 1, 1, 1, 0, 0, 0, 1, 0, 1, 0, 0, 0, 0, 1, 1, 0, 0, 0,\n",
              "       1, 1, 1, 1, 0, 0, 0, 0, 1, 0, 0, 0, 0, 0, 0, 0, 0, 0, 1, 1, 0, 1,\n",
              "       0, 1, 1, 1, 1, 0, 0, 1, 0, 1, 0, 0, 1, 0, 0, 0, 0, 0, 0, 0, 0, 1,\n",
              "       0, 1, 1, 1, 1, 0, 0, 1, 0, 1, 1, 0, 1, 0, 1, 0, 0, 1, 1, 0, 0, 1,\n",
              "       1, 0, 0, 0, 0, 0, 0, 1, 1, 0])"
            ]
          },
          "metadata": {},
          "execution_count": 13
        }
      ]
    },
    {
      "cell_type": "code",
      "source": [
        "#5.TRAIN and TEST VARIABLES\n",
        "#sklearn.model_selection - package , train_test_split - library\n",
        "from sklearn.model_selection import train_test_split\n",
        "x_train,x_test,y_train,y_test = train_test_split(x,y,random_state = 0)\n"
      ],
      "metadata": {
        "id": "pWhd2YiQ5S5U"
      },
      "execution_count": null,
      "outputs": []
    },
    {
      "cell_type": "code",
      "source": [
        "print(x.shape) \n",
        "print(x_train.shape) \n",
        "print(x_test.shape)"
      ],
      "metadata": {
        "colab": {
          "base_uri": "https://localhost:8080/"
        },
        "id": "vr4sFlKa5b4l",
        "outputId": "e8dd0cac-c361-4fff-93c0-e450fe4c84d7"
      },
      "execution_count": null,
      "outputs": [
        {
          "output_type": "stream",
          "name": "stdout",
          "text": [
            "(714, 2)\n",
            "(535, 2)\n",
            "(179, 2)\n"
          ]
        }
      ]
    },
    {
      "cell_type": "code",
      "source": [
        "print(y.shape) \n",
        "print(y_train.shape) \n",
        "print(y_test.shape) "
      ],
      "metadata": {
        "colab": {
          "base_uri": "https://localhost:8080/"
        },
        "id": "dHEkJfHm5kUF",
        "outputId": "5a685efc-5302-4f83-a1be-501b6a6278e0"
      },
      "execution_count": null,
      "outputs": [
        {
          "output_type": "stream",
          "name": "stdout",
          "text": [
            "(714,)\n",
            "(535,)\n",
            "(179,)\n"
          ]
        }
      ]
    },
    {
      "cell_type": "code",
      "source": [
        "#6.SCALING or NORMALISATION -DONE ONLY FOR INPUTS\n",
        "from sklearn.preprocessing import MinMaxScaler\n",
        "scaler = MinMaxScaler()\n",
        "x_train = scaler.fit_transform(x_train)\n",
        "x_test = scaler.fit_transform(x_test)"
      ],
      "metadata": {
        "id": "-Vg94FGe5uYd"
      },
      "execution_count": null,
      "outputs": []
    },
    {
      "cell_type": "code",
      "source": [
        "#7.RUN a CLASSIFIER/REGRESSOR/CLUSTERER\n",
        "from sklearn.linear_model import LinearRegression\n",
        "model = LinearRegression()"
      ],
      "metadata": {
        "id": "jf90Kkdx5zwY"
      },
      "execution_count": null,
      "outputs": []
    },
    {
      "cell_type": "code",
      "source": [
        "#8.MODEL FITTING\n",
        "model.fit(x_train,y_train)\n"
      ],
      "metadata": {
        "colab": {
          "base_uri": "https://localhost:8080/"
        },
        "id": "GQBz91kz55fi",
        "outputId": "1b3e0212-7231-403c-911b-4722c84f0b6f"
      },
      "execution_count": null,
      "outputs": [
        {
          "output_type": "execute_result",
          "data": {
            "text/plain": [
              "LinearRegression()"
            ]
          },
          "metadata": {},
          "execution_count": 19
        }
      ]
    },
    {
      "cell_type": "code",
      "source": [
        "#9.PREDICT THE OUTPUT\n",
        "y_pred = model.predict(x_test)#By taking the input testing data , we predict the output\n",
        "y_pred #PREDICTED VALUES"
      ],
      "metadata": {
        "colab": {
          "base_uri": "https://localhost:8080/"
        },
        "id": "LXkdSXOF6ETr",
        "outputId": "991a04b0-eed7-4b80-a614-476eb971f2d5"
      },
      "execution_count": null,
      "outputs": [
        {
          "output_type": "execute_result",
          "data": {
            "text/plain": [
              "array([0.39761324, 0.39213076, 1.19184161, 0.36137866, 0.48410719,\n",
              "       0.41874757, 0.44722965, 0.50800588, 0.32773673, 0.52129927,\n",
              "       0.38587524, 0.371426  , 0.47803549, 0.40806939, 0.40777335,\n",
              "       0.30965066, 0.36900395, 0.51932647, 0.42355356, 0.3513365 ,\n",
              "       0.38869047, 0.34777711, 0.52718015, 0.35663456, 0.35740009,\n",
              "       0.51932647, 0.98599151, 0.72323875, 0.5980841 , 0.32984137,\n",
              "       0.35042988, 0.61882409, 0.3997572 , 0.63715126, 0.34038772,\n",
              "       0.31727419, 0.65145017, 0.42962349, 0.39278236, 0.44416112,\n",
              "       0.39327443, 0.38892582, 0.54191609, 0.74251013, 0.36401006,\n",
              "       0.46968459, 0.57303304, 0.71256057, 0.33568118, 0.40499106,\n",
              "       0.28874992, 0.4047274 , 0.401168  , 0.69829002, 0.27454704,\n",
              "       0.37534563, 0.47695371, 0.37458241, 0.25675008, 0.53909624,\n",
              "       1.0695904 , 0.27837065, 0.46375458, 0.40115644, 0.80718169,\n",
              "       0.37401925, 1.06247162, 0.35285369, 1.18799747, 0.66451746,\n",
              "       0.38258931, 0.90644691, 0.42608376, 0.69046181, 0.96308212,\n",
              "       0.71831306, 0.41001385, 0.39788906, 0.36085365, 0.40828679,\n",
              "       0.46584618, 0.539261  , 0.44446355, 0.43883883, 0.35265249,\n",
              "       0.37954105, 0.37625688, 0.43338295, 1.15253245, 0.28396012,\n",
              "       0.68457111, 0.37714439, 0.38055636, 0.54372413, 0.61037662,\n",
              "       0.56890123, 0.76448054, 0.43348295, 0.37159543, 0.38897263,\n",
              "       0.41922863, 0.45943428, 0.33252422, 0.50003079, 0.81980318,\n",
              "       0.37421005, 0.76170347, 0.78754375, 1.34627022, 0.56899259,\n",
              "       0.38894719, 0.40144841, 0.55172872, 0.43706492, 1.5343896 ,\n",
              "       0.35265595, 0.36913346, 0.34985691, 0.42001498, 0.41692277,\n",
              "       0.39530275, 0.44645949, 0.37553875, 0.37268129, 0.6441897 ,\n",
              "       0.42816065, 0.6082072 , 0.29311935, 0.30377153, 0.36201468,\n",
              "       0.59332669, 0.30479379, 1.40404733, 0.43318289, 0.48309187,\n",
              "       0.38860781, 0.89002606, 0.50419905, 0.43934071, 0.39593877,\n",
              "       0.37447255, 0.33282603, 0.66931129, 0.36201468, 0.54658331,\n",
              "       0.43172004, 0.4070668 , 0.35362903, 0.45842128, 0.38536642,\n",
              "       0.39921078, 0.37197936, 0.40451694, 0.43291515, 0.4008974 ,\n",
              "       0.38248348, 0.48044719, 0.3691219 , 0.37776135, 0.39975026,\n",
              "       0.37323521, 0.38086573, 0.43117885, 0.55884751, 0.35818469,\n",
              "       0.48867033, 0.81378765, 0.29586871, 0.50276451, 0.29189996,\n",
              "       0.2994628 , 0.45050688, 0.59756372, 0.37458241, 0.40739923,\n",
              "       0.43527944, 1.44593322, 0.43657058, 0.56249017])"
            ]
          },
          "metadata": {},
          "execution_count": 20
        }
      ]
    },
    {
      "cell_type": "code",
      "source": [
        "y_test #ACTUAL VALUES"
      ],
      "metadata": {
        "colab": {
          "base_uri": "https://localhost:8080/"
        },
        "id": "ztkm8XUF6K4C",
        "outputId": "85bf4173-917f-499d-f3b3-0cc1d4d8058e"
      },
      "execution_count": null,
      "outputs": [
        {
          "output_type": "execute_result",
          "data": {
            "text/plain": [
              "array([0, 0, 1, 0, 1, 0, 0, 0, 0, 0, 0, 1, 1, 0, 0, 1, 0, 1, 1, 0, 0, 1,\n",
              "       1, 0, 0, 1, 1, 0, 1, 0, 0, 0, 0, 1, 0, 0, 1, 1, 0, 1, 0, 1, 1, 0,\n",
              "       0, 1, 1, 0, 0, 0, 0, 1, 0, 1, 0, 0, 1, 0, 1, 0, 0, 0, 0, 0, 1, 0,\n",
              "       1, 0, 0, 1, 0, 1, 1, 1, 1, 1, 1, 0, 0, 0, 1, 1, 0, 1, 1, 0, 0, 0,\n",
              "       1, 0, 1, 0, 1, 0, 1, 0, 1, 0, 0, 0, 1, 1, 1, 0, 1, 1, 1, 0, 1, 0,\n",
              "       0, 0, 0, 0, 0, 0, 1, 0, 1, 1, 0, 1, 0, 0, 0, 1, 1, 0, 0, 1, 1, 1,\n",
              "       0, 1, 1, 0, 1, 1, 0, 0, 1, 0, 1, 1, 0, 0, 0, 0, 0, 0, 0, 1, 0, 1,\n",
              "       1, 0, 0, 1, 0, 0, 0, 0, 0, 0, 0, 1, 0, 0, 0, 1, 1, 0, 1, 1, 0, 0,\n",
              "       1, 1, 0])"
            ]
          },
          "metadata": {},
          "execution_count": 21
        }
      ]
    },
    {
      "cell_type": "code",
      "source": [
        "print(x_train[10]) #these are scaled/normalised values\n"
      ],
      "metadata": {
        "colab": {
          "base_uri": "https://localhost:8080/"
        },
        "id": "WNZxFBbS6RUR",
        "outputId": "e19fb490-1a1b-4975-8b0d-768d4dab26d8"
      },
      "execution_count": null,
      "outputs": [
        {
          "output_type": "stream",
          "name": "stdout",
          "text": [
            "[0.33178781 0.05074862]\n"
          ]
        }
      ]
    },
    {
      "cell_type": "code",
      "source": [
        "#INDIVIDUAL PREDICTION\n",
        "model.predict([x_train[10]])"
      ],
      "metadata": {
        "colab": {
          "base_uri": "https://localhost:8080/"
        },
        "id": "ZPcL1B6i6bh0",
        "outputId": "13bdc5e2-6d4f-43e7-87fb-bbedbea8db66"
      },
      "execution_count": null,
      "outputs": [
        {
          "output_type": "execute_result",
          "data": {
            "text/plain": [
              "array([0.39644185])"
            ]
          },
          "metadata": {},
          "execution_count": 23
        }
      ]
    },
    {
      "cell_type": "code",
      "source": [
        "#CROSS VERIFICATION TECHNIQUE\n",
        "#y = mx + C # Equation of a Straight line\n",
        "# y - Dependent variable\n",
        "#x - Independent Variable\n",
        "#m - slope\n",
        "#C - Constant /Y -intercept"
      ],
      "metadata": {
        "id": "uM0tPUhA6hL5"
      },
      "execution_count": null,
      "outputs": []
    },
    {
      "cell_type": "code",
      "source": [
        "m = model.coef_ # slope\n",
        "m"
      ],
      "metadata": {
        "colab": {
          "base_uri": "https://localhost:8080/"
        },
        "id": "_ONcCJUV6lws",
        "outputId": "7d78af24-7a50-48b2-b0e2-946a9db52601"
      },
      "execution_count": null,
      "outputs": [
        {
          "output_type": "execute_result",
          "data": {
            "text/plain": [
              "array([-0.28325651,  1.3381839 ])"
            ]
          },
          "metadata": {},
          "execution_count": 25
        }
      ]
    },
    {
      "cell_type": "code",
      "source": [
        "type(m)"
      ],
      "metadata": {
        "colab": {
          "base_uri": "https://localhost:8080/"
        },
        "id": "EazElaJ37DNW",
        "outputId": "24bbbbb4-962b-4f8d-c54b-31fb34aaa6b0"
      },
      "execution_count": null,
      "outputs": [
        {
          "output_type": "execute_result",
          "data": {
            "text/plain": [
              "numpy.ndarray"
            ]
          },
          "metadata": {},
          "execution_count": 26
        }
      ]
    },
    {
      "cell_type": "code",
      "source": [
        "C = model.intercept_ # Y -intercept/constant\n",
        "C"
      ],
      "metadata": {
        "colab": {
          "base_uri": "https://localhost:8080/"
        },
        "id": "Wc6iKm4W7MFp",
        "outputId": "fa46085f-fefa-4d2d-b32f-f61276de51c9"
      },
      "execution_count": null,
      "outputs": [
        {
          "output_type": "execute_result",
          "data": {
            "text/plain": [
              "0.4225119146192239"
            ]
          },
          "metadata": {},
          "execution_count": 27
        }
      ]
    },
    {
      "cell_type": "code",
      "source": [
        "type(C)"
      ],
      "metadata": {
        "colab": {
          "base_uri": "https://localhost:8080/"
        },
        "id": "donR6bbu7QjU",
        "outputId": "6a0ac9be-2754-4492-f7aa-2025dcb11328"
      },
      "execution_count": null,
      "outputs": [
        {
          "output_type": "execute_result",
          "data": {
            "text/plain": [
              "numpy.float64"
            ]
          },
          "metadata": {},
          "execution_count": 28
        }
      ]
    },
    {
      "cell_type": "code",
      "source": [
        "#y = mx + C , x = 100\n",
        "m * 100 + C"
      ],
      "metadata": {
        "colab": {
          "base_uri": "https://localhost:8080/"
        },
        "id": "1YIykIfZ7Ucb",
        "outputId": "0deb3fc2-ca3c-4ec8-b097-ea84dc482f95"
      },
      "execution_count": null,
      "outputs": [
        {
          "output_type": "execute_result",
          "data": {
            "text/plain": [
              "array([-27.90313875, 134.24090192])"
            ]
          },
          "metadata": {},
          "execution_count": 32
        }
      ]
    },
    {
      "cell_type": "code",
      "source": [
        "#CONCLUSION:\n",
        "\n",
        "   #--> We had taken age and fare  has input\n",
        "   #--> We had taken survived has output\n",
        "   #--> The had given x as input and y as output\n",
        "   #--> From visulastion we get plot\n",
        "   #--> From train_test_split, we get x and y train.shape of 75% \n",
        "   #--> and x and y test.shape of 25% \n",
        "   #--> By fitting the model output is predicted\n",
        "   #--> We also get Individual Prediction\n",
        "   #--> By cross verification we can check our analysis\n",
        "   #--> These analysis help us to now about more data\n",
        "   #--> Model depends on nature of data as well as size of the data\n",
        "\n",
        "\n"
      ],
      "metadata": {
        "id": "mgbHlEMo7j4l"
      },
      "execution_count": null,
      "outputs": []
    },
    {
      "cell_type": "code",
      "source": [
        "THANK YOU"
      ],
      "metadata": {
        "id": "BuSlEalfRnX0"
      },
      "execution_count": null,
      "outputs": []
    }
  ]
}